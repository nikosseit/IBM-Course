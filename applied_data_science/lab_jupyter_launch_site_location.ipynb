{
  "metadata": {
    "kernelspec": {
      "name": "python",
      "display_name": "Python (Pyodide)",
      "language": "python"
    },
    "language_info": {
      "codemirror_mode": {
        "name": "python",
        "version": 3
      },
      "file_extension": ".py",
      "mimetype": "text/x-python",
      "name": "python",
      "nbconvert_exporter": "python",
      "pygments_lexer": "ipython3",
      "version": "3.8"
    },
    "prev_pub_hash": "0f9db842b41c859223722809f8be602f5df9334348bd206b11e3af58c30eb345"
  },
  "nbformat_minor": 4,
  "nbformat": 4,
  "cells": [
    {
      "cell_type": "markdown",
      "source": "<p style=\"text-align:center\">\n    <a href=\"https://skills.network/?utm_medium=Exinfluencer&utm_source=Exinfluencer&utm_content=000026UJ&utm_term=10006555&utm_id=NA-SkillsNetwork-Channel-SkillsNetworkCoursesIBMDS0321ENSkillsNetwork26802033-2022-01-01\" target=\"_blank\">\n    <img src=\"https://cf-courses-data.s3.us.cloud-object-storage.appdomain.cloud/assets/logos/SN_web_lightmode.png\" width=\"200\" alt=\"Skills Network Logo\">\n    </a>\n</p>\n",
      "metadata": {}
    },
    {
      "cell_type": "markdown",
      "source": "# **Hands-on Lab: Interactive Visual Analytics with Folium**\n",
      "metadata": {}
    },
    {
      "cell_type": "markdown",
      "source": "Estimated time needed: **40** minutes\n",
      "metadata": {}
    },
    {
      "cell_type": "markdown",
      "source": "The launch success rate may depend on many factors such as payload mass, orbit type, and so on. It may also depend on the location and proximities of a launch site, i.e., the initial position of rocket trajectories. Finding an optimal location for building a launch site certainly involves many factors and hopefully we could discover some of the factors by analyzing the existing launch site locations.\n",
      "metadata": {}
    },
    {
      "cell_type": "markdown",
      "source": "In the previous exploratory data analysis labs, you have visualized the SpaceX launch dataset using `matplotlib` and `seaborn` and discovered some preliminary correlations between the launch site and success rates. In this lab, you will be performing more interactive visual analytics using `Folium`.\n",
      "metadata": {}
    },
    {
      "cell_type": "markdown",
      "source": "## Objectives\n",
      "metadata": {}
    },
    {
      "cell_type": "markdown",
      "source": "This lab contains the following tasks:\n\n*   **TASK 1:** Mark all launch sites on a map\n*   **TASK 2:** Mark the success/failed launches for each site on the map\n*   **TASK 3:** Calculate the distances between a launch site to its proximities\n\nAfter completed the above tasks, you should be able to find some geographical patterns about launch sites.\n",
      "metadata": {}
    },
    {
      "cell_type": "markdown",
      "source": "Let's first import required Python packages for this lab:\n",
      "metadata": {}
    },
    {
      "cell_type": "code",
      "source": "import piplite\nawait piplite.install(['folium'])\nawait piplite.install(['pandas'])",
      "metadata": {
        "trusted": true
      },
      "outputs": [],
      "execution_count": 2
    },
    {
      "cell_type": "code",
      "source": "import folium\nimport pandas as pd",
      "metadata": {
        "trusted": true
      },
      "outputs": [],
      "execution_count": 3
    },
    {
      "cell_type": "code",
      "source": "# Import folium MarkerCluster plugin\nfrom folium.plugins import MarkerCluster\n# Import folium MousePosition plugin\nfrom folium.plugins import MousePosition\n# Import folium DivIcon plugin\nfrom folium.features import DivIcon",
      "metadata": {
        "trusted": true
      },
      "outputs": [],
      "execution_count": 4
    },
    {
      "cell_type": "markdown",
      "source": "If you need to refresh your memory about folium, you may download and refer to this previous folium lab:\n",
      "metadata": {}
    },
    {
      "cell_type": "markdown",
      "source": "[Generating Maps with Python](https://cf-courses-data.s3.us.cloud-object-storage.appdomain.cloud/IBMDeveloperSkillsNetwork-DV0101EN-SkillsNetwork/labs/v4/DV0101EN-Exercise-Generating-Maps-in-Python.ipynb)\n",
      "metadata": {}
    },
    {
      "cell_type": "code",
      "source": "# Import necessary libraries\nimport folium\nfrom folium.plugins import MarkerCluster, MousePosition\nfrom folium.features import DivIcon\n\n# Sample launch sites data\nlaunch_sites = {\n    \"Launch_Site\": [\"CCAFS LC-40\", \"VAFB SLC-4E\", \"KSC LC-39A\"],\n    \"Latitude\": [28.5623, 34.6321, 28.5733],\n    \"Longitude\": [-80.5774, -120.6108, -80.6469],\n}\n\n# Create a map centered at an average location\nm = folium.Map(location=[28.5, -80.5], zoom_start=5)\n\n# Add MarkerCluster to the map\nmarker_cluster = MarkerCluster().add_to(m)\n\n# Add markers for each launch site\nfor name, lat, lon in zip(\n    launch_sites[\"Launch_Site\"], launch_sites[\"Latitude\"], launch_sites[\"Longitude\"]\n):\n    folium.Marker(\n        location=[lat, lon],\n        icon=DivIcon(\n            icon_size=(10, 10),\n            icon_anchor=(0, 0),\n            html=f\"<div style='font-size: 10pt'>{name}</div>\",\n        ),\n    ).add_to(marker_cluster)\n\n# Add MousePosition to display coordinates\nMousePosition().add_to(m)\n\n# Display the map\nm\n",
      "metadata": {
        "trusted": true
      },
      "outputs": [
        {
          "execution_count": 7,
          "output_type": "execute_result",
          "data": {
            "text/plain": "<folium.folium.Map at 0x6074fc8>",
            "text/html": "<div style=\"width:100%;\"><div style=\"position:relative;width:100%;height:0;padding-bottom:60%;\"><span style=\"color:#565656\">Make this Notebook Trusted to load map: File -> Trust Notebook</span><iframe srcdoc=\"&lt;!DOCTYPE html&gt;\n&lt;html&gt;\n&lt;head&gt;\n    \n    &lt;meta http-equiv=&quot;content-type&quot; content=&quot;text/html; charset=UTF-8&quot; /&gt;\n    \n        &lt;script&gt;\n            L_NO_TOUCH = false;\n            L_DISABLE_3D = false;\n        &lt;/script&gt;\n    \n    &lt;style&gt;html, body {width: 100%;height: 100%;margin: 0;padding: 0;}&lt;/style&gt;\n    &lt;style&gt;#map {position:absolute;top:0;bottom:0;right:0;left:0;}&lt;/style&gt;\n    &lt;script src=&quot;https://cdn.jsdelivr.net/npm/leaflet@1.9.3/dist/leaflet.js&quot;&gt;&lt;/script&gt;\n    &lt;script src=&quot;https://code.jquery.com/jquery-3.7.1.min.js&quot;&gt;&lt;/script&gt;\n    &lt;script src=&quot;https://cdn.jsdelivr.net/npm/bootstrap@5.2.2/dist/js/bootstrap.bundle.min.js&quot;&gt;&lt;/script&gt;\n    &lt;script src=&quot;https://cdnjs.cloudflare.com/ajax/libs/Leaflet.awesome-markers/2.0.2/leaflet.awesome-markers.js&quot;&gt;&lt;/script&gt;\n    &lt;link rel=&quot;stylesheet&quot; href=&quot;https://cdn.jsdelivr.net/npm/leaflet@1.9.3/dist/leaflet.css&quot;/&gt;\n    &lt;link rel=&quot;stylesheet&quot; href=&quot;https://cdn.jsdelivr.net/npm/bootstrap@5.2.2/dist/css/bootstrap.min.css&quot;/&gt;\n    &lt;link rel=&quot;stylesheet&quot; href=&quot;https://netdna.bootstrapcdn.com/bootstrap/3.0.0/css/bootstrap-glyphicons.css&quot;/&gt;\n    &lt;link rel=&quot;stylesheet&quot; href=&quot;https://cdn.jsdelivr.net/npm/@fortawesome/fontawesome-free@6.2.0/css/all.min.css&quot;/&gt;\n    &lt;link rel=&quot;stylesheet&quot; href=&quot;https://cdnjs.cloudflare.com/ajax/libs/Leaflet.awesome-markers/2.0.2/leaflet.awesome-markers.css&quot;/&gt;\n    &lt;link rel=&quot;stylesheet&quot; href=&quot;https://cdn.jsdelivr.net/gh/python-visualization/folium/folium/templates/leaflet.awesome.rotate.min.css&quot;/&gt;\n    \n            &lt;meta name=&quot;viewport&quot; content=&quot;width=device-width,\n                initial-scale=1.0, maximum-scale=1.0, user-scalable=no&quot; /&gt;\n            &lt;style&gt;\n                #map_5e23c7a99b2af356a1a19d6df0669eb1 {\n                    position: relative;\n                    width: 100.0%;\n                    height: 100.0%;\n                    left: 0.0%;\n                    top: 0.0%;\n                }\n                .leaflet-container { font-size: 1rem; }\n            &lt;/style&gt;\n        \n    &lt;script src=&quot;https://cdnjs.cloudflare.com/ajax/libs/leaflet.markercluster/1.1.0/leaflet.markercluster.js&quot;&gt;&lt;/script&gt;\n    &lt;link rel=&quot;stylesheet&quot; href=&quot;https://cdnjs.cloudflare.com/ajax/libs/leaflet.markercluster/1.1.0/MarkerCluster.css&quot;/&gt;\n    &lt;link rel=&quot;stylesheet&quot; href=&quot;https://cdnjs.cloudflare.com/ajax/libs/leaflet.markercluster/1.1.0/MarkerCluster.Default.css&quot;/&gt;\n    &lt;script src=&quot;https://cdn.jsdelivr.net/gh/ardhi/Leaflet.MousePosition/src/L.Control.MousePosition.min.js&quot;&gt;&lt;/script&gt;\n    &lt;link rel=&quot;stylesheet&quot; href=&quot;https://cdn.jsdelivr.net/gh/ardhi/Leaflet.MousePosition/src/L.Control.MousePosition.min.css&quot;/&gt;\n&lt;/head&gt;\n&lt;body&gt;\n    \n    \n            &lt;div class=&quot;folium-map&quot; id=&quot;map_5e23c7a99b2af356a1a19d6df0669eb1&quot; &gt;&lt;/div&gt;\n        \n&lt;/body&gt;\n&lt;script&gt;\n    \n    \n            var map_5e23c7a99b2af356a1a19d6df0669eb1 = L.map(\n                &quot;map_5e23c7a99b2af356a1a19d6df0669eb1&quot;,\n                {\n                    center: [28.5, -80.5],\n                    crs: L.CRS.EPSG3857,\n                    ...{\n  &quot;zoom&quot;: 5,\n  &quot;zoomControl&quot;: true,\n  &quot;preferCanvas&quot;: false,\n}\n\n                }\n            );\n\n            \n\n        \n    \n            var tile_layer_2a7809f9a32a1347b866fa790d1e638d = L.tileLayer(\n                &quot;https://tile.openstreetmap.org/{z}/{x}/{y}.png&quot;,\n                {\n  &quot;minZoom&quot;: 0,\n  &quot;maxZoom&quot;: 19,\n  &quot;maxNativeZoom&quot;: 19,\n  &quot;noWrap&quot;: false,\n  &quot;attribution&quot;: &quot;\\u0026copy; \\u003ca href=\\&quot;https://www.openstreetmap.org/copyright\\&quot;\\u003eOpenStreetMap\\u003c/a\\u003e contributors&quot;,\n  &quot;subdomains&quot;: &quot;abc&quot;,\n  &quot;detectRetina&quot;: false,\n  &quot;tms&quot;: false,\n  &quot;opacity&quot;: 1,\n}\n\n            );\n        \n    \n            tile_layer_2a7809f9a32a1347b866fa790d1e638d.addTo(map_5e23c7a99b2af356a1a19d6df0669eb1);\n        \n    \n            var marker_cluster_28299ed39175a70f63bd98d9a1536bd6 = L.markerClusterGroup(\n                {\n}\n            );\n        \n    \n            var marker_974cf45f91cf64fda81cb51c0ea32b0d = L.marker(\n                [28.5623, -80.5774],\n                {\n}\n            ).addTo(marker_cluster_28299ed39175a70f63bd98d9a1536bd6);\n        \n    \n            var div_icon_dd1f8053178e58f346cc92ebc7d5da30 = L.divIcon({\n  &quot;html&quot;: &quot;\\u003cdiv style=\\u0027font-size: 10pt\\u0027\\u003eCCAFS LC-40\\u003c/div\\u003e&quot;,\n  &quot;iconSize&quot;: [10, 10],\n  &quot;iconAnchor&quot;: [0, 0],\n  &quot;className&quot;: &quot;empty&quot;,\n});\n            marker_974cf45f91cf64fda81cb51c0ea32b0d.setIcon(div_icon_dd1f8053178e58f346cc92ebc7d5da30);\n        \n    \n            var marker_a3c455c23823adcf21dca593a2b964c7 = L.marker(\n                [34.6321, -120.6108],\n                {\n}\n            ).addTo(marker_cluster_28299ed39175a70f63bd98d9a1536bd6);\n        \n    \n            var div_icon_0330537ebe0d5835b04f1169488ad975 = L.divIcon({\n  &quot;html&quot;: &quot;\\u003cdiv style=\\u0027font-size: 10pt\\u0027\\u003eVAFB SLC-4E\\u003c/div\\u003e&quot;,\n  &quot;iconSize&quot;: [10, 10],\n  &quot;iconAnchor&quot;: [0, 0],\n  &quot;className&quot;: &quot;empty&quot;,\n});\n            marker_a3c455c23823adcf21dca593a2b964c7.setIcon(div_icon_0330537ebe0d5835b04f1169488ad975);\n        \n    \n            var marker_f3bc59267141971fa63e9db73015b658 = L.marker(\n                [28.5733, -80.6469],\n                {\n}\n            ).addTo(marker_cluster_28299ed39175a70f63bd98d9a1536bd6);\n        \n    \n            var div_icon_260c2ce780aa7857f38b06573839704c = L.divIcon({\n  &quot;html&quot;: &quot;\\u003cdiv style=\\u0027font-size: 10pt\\u0027\\u003eKSC LC-39A\\u003c/div\\u003e&quot;,\n  &quot;iconSize&quot;: [10, 10],\n  &quot;iconAnchor&quot;: [0, 0],\n  &quot;className&quot;: &quot;empty&quot;,\n});\n            marker_f3bc59267141971fa63e9db73015b658.setIcon(div_icon_260c2ce780aa7857f38b06573839704c);\n        \n    \n            marker_cluster_28299ed39175a70f63bd98d9a1536bd6.addTo(map_5e23c7a99b2af356a1a19d6df0669eb1);\n        \n    \n            var mouse_position_d8b1e6636fd92664613f13fc448d8e97 = new L.Control.MousePosition(\n                {\n  &quot;position&quot;: &quot;bottomright&quot;,\n  &quot;separator&quot;: &quot; : &quot;,\n  &quot;emptyString&quot;: &quot;Unavailable&quot;,\n  &quot;lngFirst&quot;: false,\n  &quot;numDigits&quot;: 5,\n  &quot;prefix&quot;: &quot;&quot;,\n}\n            );\n            mouse_position_d8b1e6636fd92664613f13fc448d8e97.options[&quot;latFormatter&quot;] =\n                undefined;\n            mouse_position_d8b1e6636fd92664613f13fc448d8e97.options[&quot;lngFormatter&quot;] =\n                undefined;\n            map_5e23c7a99b2af356a1a19d6df0669eb1.addControl(mouse_position_d8b1e6636fd92664613f13fc448d8e97);\n        \n&lt;/script&gt;\n&lt;/html&gt;\" style=\"position:absolute;width:100%;height:100%;left:0;top:0;border:none !important;\" allowfullscreen webkitallowfullscreen mozallowfullscreen></iframe></div></div>"
          },
          "metadata": {}
        }
      ],
      "execution_count": 7
    },
    {
      "cell_type": "markdown",
      "source": "First, let's try to add each site's location on a map using site's latitude and longitude coordinates\n",
      "metadata": {}
    },
    {
      "cell_type": "markdown",
      "source": "The following dataset with the name `spacex_launch_geo.csv` is an augmented dataset with latitude and longitude added for each site.\n",
      "metadata": {}
    },
    {
      "cell_type": "code",
      "source": "# Download and read the `spacex_launch_geo.csv`\nfrom js import fetch\nimport io\n\nURL = 'https://cf-courses-data.s3.us.cloud-object-storage.appdomain.cloud/IBM-DS0321EN-SkillsNetwork/datasets/spacex_launch_geo.csv'\nresp = await fetch(URL)\nspacex_csv_file = io.BytesIO((await resp.arrayBuffer()).to_py())\nspacex_df=pd.read_csv(spacex_csv_file)",
      "metadata": {
        "trusted": true
      },
      "outputs": [],
      "execution_count": 8
    },
    {
      "cell_type": "markdown",
      "source": "Now, you can take a look at what are the coordinates for each site.\n",
      "metadata": {}
    },
    {
      "cell_type": "code",
      "source": "# Select relevant sub-columns: `Launch Site`, `Lat(Latitude)`, `Long(Longitude)`, `class`\nspacex_df = spacex_df[['Launch Site', 'Lat', 'Long', 'class']]\nlaunch_sites_df = spacex_df.groupby(['Launch Site'], as_index=False).first()\nlaunch_sites_df = launch_sites_df[['Launch Site', 'Lat', 'Long']]\nlaunch_sites_df",
      "metadata": {
        "trusted": true
      },
      "outputs": [
        {
          "execution_count": 9,
          "output_type": "execute_result",
          "data": {
            "text/plain": "    Launch Site        Lat        Long\n0   CCAFS LC-40  28.562302  -80.577356\n1  CCAFS SLC-40  28.563197  -80.576820\n2    KSC LC-39A  28.573255  -80.646895\n3   VAFB SLC-4E  34.632834 -120.610745",
            "text/html": "<div>\n<style scoped>\n    .dataframe tbody tr th:only-of-type {\n        vertical-align: middle;\n    }\n\n    .dataframe tbody tr th {\n        vertical-align: top;\n    }\n\n    .dataframe thead th {\n        text-align: right;\n    }\n</style>\n<table border=\"1\" class=\"dataframe\">\n  <thead>\n    <tr style=\"text-align: right;\">\n      <th></th>\n      <th>Launch Site</th>\n      <th>Lat</th>\n      <th>Long</th>\n    </tr>\n  </thead>\n  <tbody>\n    <tr>\n      <th>0</th>\n      <td>CCAFS LC-40</td>\n      <td>28.562302</td>\n      <td>-80.577356</td>\n    </tr>\n    <tr>\n      <th>1</th>\n      <td>CCAFS SLC-40</td>\n      <td>28.563197</td>\n      <td>-80.576820</td>\n    </tr>\n    <tr>\n      <th>2</th>\n      <td>KSC LC-39A</td>\n      <td>28.573255</td>\n      <td>-80.646895</td>\n    </tr>\n    <tr>\n      <th>3</th>\n      <td>VAFB SLC-4E</td>\n      <td>34.632834</td>\n      <td>-120.610745</td>\n    </tr>\n  </tbody>\n</table>\n</div>"
          },
          "metadata": {}
        }
      ],
      "execution_count": 9
    },
    {
      "cell_type": "markdown",
      "source": "Above coordinates are just plain numbers that can not give you any intuitive insights about where are those launch sites. If you are very good at geography, you can interpret those numbers directly in your mind. If not, that's fine too. Let's visualize those locations by pinning them on a map.\n",
      "metadata": {}
    },
    {
      "cell_type": "markdown",
      "source": "We first need to create a folium `Map` object, with an initial center location to be NASA Johnson Space Center at Houston, Texas.\n",
      "metadata": {}
    },
    {
      "cell_type": "code",
      "source": "# Start location is NASA Johnson Space Center\nnasa_coordinate = [29.559684888503615, -95.0830971930759]\nsite_map = folium.Map(location=nasa_coordinate, zoom_start=10)",
      "metadata": {
        "trusted": true
      },
      "outputs": [],
      "execution_count": 10
    },
    {
      "cell_type": "markdown",
      "source": "We could use `folium.Circle` to add a highlighted circle area with a text label on a specific coordinate. For example,\n",
      "metadata": {}
    },
    {
      "cell_type": "code",
      "source": "# Create a blue circle at NASA Johnson Space Center's coordinate with a popup label showing its name\ncircle = folium.Circle(nasa_coordinate, radius=1000, color='#d35400', fill=True).add_child(folium.Popup('NASA Johnson Space Center'))\n# Create a blue circle at NASA Johnson Space Center's coordinate with a icon showing its name\nmarker = folium.map.Marker(\n    nasa_coordinate,\n    # Create an icon as a text label\n    icon=DivIcon(\n        icon_size=(20,20),\n        icon_anchor=(0,0),\n        html='<div style=\"font-size: 12; color:#d35400;\"><b>%s</b></div>' % 'NASA JSC',\n        )\n    )\nsite_map.add_child(circle)\nsite_map.add_child(marker)",
      "metadata": {
        "trusted": true
      },
      "outputs": [
        {
          "execution_count": 11,
          "output_type": "execute_result",
          "data": {
            "text/plain": "<folium.folium.Map at 0x4a6f938>",
            "text/html": "<div style=\"width:100%;\"><div style=\"position:relative;width:100%;height:0;padding-bottom:60%;\"><span style=\"color:#565656\">Make this Notebook Trusted to load map: File -> Trust Notebook</span><iframe srcdoc=\"&lt;!DOCTYPE html&gt;\n&lt;html&gt;\n&lt;head&gt;\n    \n    &lt;meta http-equiv=&quot;content-type&quot; content=&quot;text/html; charset=UTF-8&quot; /&gt;\n    \n        &lt;script&gt;\n            L_NO_TOUCH = false;\n            L_DISABLE_3D = false;\n        &lt;/script&gt;\n    \n    &lt;style&gt;html, body {width: 100%;height: 100%;margin: 0;padding: 0;}&lt;/style&gt;\n    &lt;style&gt;#map {position:absolute;top:0;bottom:0;right:0;left:0;}&lt;/style&gt;\n    &lt;script src=&quot;https://cdn.jsdelivr.net/npm/leaflet@1.9.3/dist/leaflet.js&quot;&gt;&lt;/script&gt;\n    &lt;script src=&quot;https://code.jquery.com/jquery-3.7.1.min.js&quot;&gt;&lt;/script&gt;\n    &lt;script src=&quot;https://cdn.jsdelivr.net/npm/bootstrap@5.2.2/dist/js/bootstrap.bundle.min.js&quot;&gt;&lt;/script&gt;\n    &lt;script src=&quot;https://cdnjs.cloudflare.com/ajax/libs/Leaflet.awesome-markers/2.0.2/leaflet.awesome-markers.js&quot;&gt;&lt;/script&gt;\n    &lt;link rel=&quot;stylesheet&quot; href=&quot;https://cdn.jsdelivr.net/npm/leaflet@1.9.3/dist/leaflet.css&quot;/&gt;\n    &lt;link rel=&quot;stylesheet&quot; href=&quot;https://cdn.jsdelivr.net/npm/bootstrap@5.2.2/dist/css/bootstrap.min.css&quot;/&gt;\n    &lt;link rel=&quot;stylesheet&quot; href=&quot;https://netdna.bootstrapcdn.com/bootstrap/3.0.0/css/bootstrap-glyphicons.css&quot;/&gt;\n    &lt;link rel=&quot;stylesheet&quot; href=&quot;https://cdn.jsdelivr.net/npm/@fortawesome/fontawesome-free@6.2.0/css/all.min.css&quot;/&gt;\n    &lt;link rel=&quot;stylesheet&quot; href=&quot;https://cdnjs.cloudflare.com/ajax/libs/Leaflet.awesome-markers/2.0.2/leaflet.awesome-markers.css&quot;/&gt;\n    &lt;link rel=&quot;stylesheet&quot; href=&quot;https://cdn.jsdelivr.net/gh/python-visualization/folium/folium/templates/leaflet.awesome.rotate.min.css&quot;/&gt;\n    \n            &lt;meta name=&quot;viewport&quot; content=&quot;width=device-width,\n                initial-scale=1.0, maximum-scale=1.0, user-scalable=no&quot; /&gt;\n            &lt;style&gt;\n                #map_30ec4b7992167cea17580b8166c762b6 {\n                    position: relative;\n                    width: 100.0%;\n                    height: 100.0%;\n                    left: 0.0%;\n                    top: 0.0%;\n                }\n                .leaflet-container { font-size: 1rem; }\n            &lt;/style&gt;\n        \n&lt;/head&gt;\n&lt;body&gt;\n    \n    \n            &lt;div class=&quot;folium-map&quot; id=&quot;map_30ec4b7992167cea17580b8166c762b6&quot; &gt;&lt;/div&gt;\n        \n&lt;/body&gt;\n&lt;script&gt;\n    \n    \n            var map_30ec4b7992167cea17580b8166c762b6 = L.map(\n                &quot;map_30ec4b7992167cea17580b8166c762b6&quot;,\n                {\n                    center: [29.559684888503615, -95.0830971930759],\n                    crs: L.CRS.EPSG3857,\n                    ...{\n  &quot;zoom&quot;: 10,\n  &quot;zoomControl&quot;: true,\n  &quot;preferCanvas&quot;: false,\n}\n\n                }\n            );\n\n            \n\n        \n    \n            var tile_layer_c8c42fc345af08e6887fcf73d14db69e = L.tileLayer(\n                &quot;https://tile.openstreetmap.org/{z}/{x}/{y}.png&quot;,\n                {\n  &quot;minZoom&quot;: 0,\n  &quot;maxZoom&quot;: 19,\n  &quot;maxNativeZoom&quot;: 19,\n  &quot;noWrap&quot;: false,\n  &quot;attribution&quot;: &quot;\\u0026copy; \\u003ca href=\\&quot;https://www.openstreetmap.org/copyright\\&quot;\\u003eOpenStreetMap\\u003c/a\\u003e contributors&quot;,\n  &quot;subdomains&quot;: &quot;abc&quot;,\n  &quot;detectRetina&quot;: false,\n  &quot;tms&quot;: false,\n  &quot;opacity&quot;: 1,\n}\n\n            );\n        \n    \n            tile_layer_c8c42fc345af08e6887fcf73d14db69e.addTo(map_30ec4b7992167cea17580b8166c762b6);\n        \n    \n            var circle_0d0a4a368b54761d5a7b8e2d7f9b37df = L.circle(\n                [29.559684888503615, -95.0830971930759],\n                {&quot;bubblingMouseEvents&quot;: true, &quot;color&quot;: &quot;#d35400&quot;, &quot;dashArray&quot;: null, &quot;dashOffset&quot;: null, &quot;fill&quot;: true, &quot;fillColor&quot;: &quot;#d35400&quot;, &quot;fillOpacity&quot;: 0.2, &quot;fillRule&quot;: &quot;evenodd&quot;, &quot;lineCap&quot;: &quot;round&quot;, &quot;lineJoin&quot;: &quot;round&quot;, &quot;opacity&quot;: 1.0, &quot;radius&quot;: 1000, &quot;stroke&quot;: true, &quot;weight&quot;: 3}\n            ).addTo(map_30ec4b7992167cea17580b8166c762b6);\n        \n    \n        var popup_be84d7a3ff0ef717477a3b915f13e38d = L.popup({\n  &quot;maxWidth&quot;: &quot;100%&quot;,\n});\n\n        \n            \n                var html_45d1a7390cd312eb2b1508181f162797 = $(`&lt;div id=&quot;html_45d1a7390cd312eb2b1508181f162797&quot; style=&quot;width: 100.0%; height: 100.0%;&quot;&gt;NASA Johnson Space Center&lt;/div&gt;`)[0];\n                popup_be84d7a3ff0ef717477a3b915f13e38d.setContent(html_45d1a7390cd312eb2b1508181f162797);\n            \n        \n\n        circle_0d0a4a368b54761d5a7b8e2d7f9b37df.bindPopup(popup_be84d7a3ff0ef717477a3b915f13e38d)\n        ;\n\n        \n    \n    \n            var marker_86a471b45d2b8047b35c108ec5ac670d = L.marker(\n                [29.559684888503615, -95.0830971930759],\n                {\n}\n            ).addTo(map_30ec4b7992167cea17580b8166c762b6);\n        \n    \n            var div_icon_a41b178af2cfa98cce01486376743fd7 = L.divIcon({\n  &quot;html&quot;: &quot;\\u003cdiv style=\\&quot;font-size: 12; color:#d35400;\\&quot;\\u003e\\u003cb\\u003eNASA JSC\\u003c/b\\u003e\\u003c/div\\u003e&quot;,\n  &quot;iconSize&quot;: [20, 20],\n  &quot;iconAnchor&quot;: [0, 0],\n  &quot;className&quot;: &quot;empty&quot;,\n});\n            marker_86a471b45d2b8047b35c108ec5ac670d.setIcon(div_icon_a41b178af2cfa98cce01486376743fd7);\n        \n&lt;/script&gt;\n&lt;/html&gt;\" style=\"position:absolute;width:100%;height:100%;left:0;top:0;border:none !important;\" allowfullscreen webkitallowfullscreen mozallowfullscreen></iframe></div></div>"
          },
          "metadata": {}
        }
      ],
      "execution_count": 11
    },
    {
      "cell_type": "markdown",
      "source": "and you should find a small yellow circle near the city of Houston and you can zoom-in to see a larger circle.\n",
      "metadata": {}
    },
    {
      "cell_type": "markdown",
      "source": "Now, let's add a circle for each launch site in data frame `launch_sites`\n",
      "metadata": {}
    },
    {
      "cell_type": "markdown",
      "source": "*TODO:*  Create and add `folium.Circle` and `folium.Marker` for each launch site on the site map\n",
      "metadata": {}
    },
    {
      "cell_type": "markdown",
      "source": "An example of folium.Circle:\n",
      "metadata": {}
    },
    {
      "cell_type": "markdown",
      "source": "`folium.Circle(coordinate, radius=1000, color='#000000', fill=True).add_child(folium.Popup(...))`\n",
      "metadata": {}
    },
    {
      "cell_type": "markdown",
      "source": "An example of folium.Marker:\n",
      "metadata": {}
    },
    {
      "cell_type": "markdown",
      "source": "`folium.map.Marker(coordinate, icon=DivIcon(icon_size=(20,20),icon_anchor=(0,0), html='<div style=\"font-size: 12; color:#d35400;\"><b>%s</b></div>' % 'label', ))`\n",
      "metadata": {}
    },
    {
      "cell_type": "code",
      "source": "# Initial the map\nsite_map = folium.Map(location=nasa_coordinate, zoom_start=5)\n# For each launch site, add a Circle object based on its coordinate (Lat, Long) values. In addition, add Launch site name as a popup label\n# Add launch site circles and markers\nfor name, lat, lon in zip(\n    launch_sites[\"Launch_Site\"], launch_sites[\"Latitude\"], launch_sites[\"Longitude\"]\n):\n    # Add a circle for each launch site\n    folium.Circle(\n        location=[lat, lon],\n        radius=1000,  # Radius in meters\n        color=\"#000000\",\n        fill=True,\n        fill_color=\"#3186cc\",\n    ).add_child(folium.Popup(name)).add_to(site_map)\n    \n    # Add a marker for each launch site\n    folium.Marker(\n        location=[lat, lon],\n        icon=DivIcon(\n            icon_size=(20, 20),\n            icon_anchor=(0, 0),\n            html=f\"<div style='font-size: 12px; color:#d35400;'><b>{name}</b></div>\",\n        ),\n    ).add_to(site_map)\nsite_map",
      "metadata": {
        "trusted": true
      },
      "outputs": [
        {
          "execution_count": 13,
          "output_type": "execute_result",
          "data": {
            "text/plain": "<folium.folium.Map at 0x5fe11b8>",
            "text/html": "<div style=\"width:100%;\"><div style=\"position:relative;width:100%;height:0;padding-bottom:60%;\"><span style=\"color:#565656\">Make this Notebook Trusted to load map: File -> Trust Notebook</span><iframe srcdoc=\"&lt;!DOCTYPE html&gt;\n&lt;html&gt;\n&lt;head&gt;\n    \n    &lt;meta http-equiv=&quot;content-type&quot; content=&quot;text/html; charset=UTF-8&quot; /&gt;\n    \n        &lt;script&gt;\n            L_NO_TOUCH = false;\n            L_DISABLE_3D = false;\n        &lt;/script&gt;\n    \n    &lt;style&gt;html, body {width: 100%;height: 100%;margin: 0;padding: 0;}&lt;/style&gt;\n    &lt;style&gt;#map {position:absolute;top:0;bottom:0;right:0;left:0;}&lt;/style&gt;\n    &lt;script src=&quot;https://cdn.jsdelivr.net/npm/leaflet@1.9.3/dist/leaflet.js&quot;&gt;&lt;/script&gt;\n    &lt;script src=&quot;https://code.jquery.com/jquery-3.7.1.min.js&quot;&gt;&lt;/script&gt;\n    &lt;script src=&quot;https://cdn.jsdelivr.net/npm/bootstrap@5.2.2/dist/js/bootstrap.bundle.min.js&quot;&gt;&lt;/script&gt;\n    &lt;script src=&quot;https://cdnjs.cloudflare.com/ajax/libs/Leaflet.awesome-markers/2.0.2/leaflet.awesome-markers.js&quot;&gt;&lt;/script&gt;\n    &lt;link rel=&quot;stylesheet&quot; href=&quot;https://cdn.jsdelivr.net/npm/leaflet@1.9.3/dist/leaflet.css&quot;/&gt;\n    &lt;link rel=&quot;stylesheet&quot; href=&quot;https://cdn.jsdelivr.net/npm/bootstrap@5.2.2/dist/css/bootstrap.min.css&quot;/&gt;\n    &lt;link rel=&quot;stylesheet&quot; href=&quot;https://netdna.bootstrapcdn.com/bootstrap/3.0.0/css/bootstrap-glyphicons.css&quot;/&gt;\n    &lt;link rel=&quot;stylesheet&quot; href=&quot;https://cdn.jsdelivr.net/npm/@fortawesome/fontawesome-free@6.2.0/css/all.min.css&quot;/&gt;\n    &lt;link rel=&quot;stylesheet&quot; href=&quot;https://cdnjs.cloudflare.com/ajax/libs/Leaflet.awesome-markers/2.0.2/leaflet.awesome-markers.css&quot;/&gt;\n    &lt;link rel=&quot;stylesheet&quot; href=&quot;https://cdn.jsdelivr.net/gh/python-visualization/folium/folium/templates/leaflet.awesome.rotate.min.css&quot;/&gt;\n    \n            &lt;meta name=&quot;viewport&quot; content=&quot;width=device-width,\n                initial-scale=1.0, maximum-scale=1.0, user-scalable=no&quot; /&gt;\n            &lt;style&gt;\n                #map_3e6957d04fd0699d9f8fa4c91470f99c {\n                    position: relative;\n                    width: 100.0%;\n                    height: 100.0%;\n                    left: 0.0%;\n                    top: 0.0%;\n                }\n                .leaflet-container { font-size: 1rem; }\n            &lt;/style&gt;\n        \n&lt;/head&gt;\n&lt;body&gt;\n    \n    \n            &lt;div class=&quot;folium-map&quot; id=&quot;map_3e6957d04fd0699d9f8fa4c91470f99c&quot; &gt;&lt;/div&gt;\n        \n&lt;/body&gt;\n&lt;script&gt;\n    \n    \n            var map_3e6957d04fd0699d9f8fa4c91470f99c = L.map(\n                &quot;map_3e6957d04fd0699d9f8fa4c91470f99c&quot;,\n                {\n                    center: [29.559684888503615, -95.0830971930759],\n                    crs: L.CRS.EPSG3857,\n                    ...{\n  &quot;zoom&quot;: 5,\n  &quot;zoomControl&quot;: true,\n  &quot;preferCanvas&quot;: false,\n}\n\n                }\n            );\n\n            \n\n        \n    \n            var tile_layer_9bc8e3b2829f11cd3f8e497b89543434 = L.tileLayer(\n                &quot;https://tile.openstreetmap.org/{z}/{x}/{y}.png&quot;,\n                {\n  &quot;minZoom&quot;: 0,\n  &quot;maxZoom&quot;: 19,\n  &quot;maxNativeZoom&quot;: 19,\n  &quot;noWrap&quot;: false,\n  &quot;attribution&quot;: &quot;\\u0026copy; \\u003ca href=\\&quot;https://www.openstreetmap.org/copyright\\&quot;\\u003eOpenStreetMap\\u003c/a\\u003e contributors&quot;,\n  &quot;subdomains&quot;: &quot;abc&quot;,\n  &quot;detectRetina&quot;: false,\n  &quot;tms&quot;: false,\n  &quot;opacity&quot;: 1,\n}\n\n            );\n        \n    \n            tile_layer_9bc8e3b2829f11cd3f8e497b89543434.addTo(map_3e6957d04fd0699d9f8fa4c91470f99c);\n        \n    \n            var circle_2fac856c0af23a1d15b0a01f78f09690 = L.circle(\n                [28.5623, -80.5774],\n                {&quot;bubblingMouseEvents&quot;: true, &quot;color&quot;: &quot;#000000&quot;, &quot;dashArray&quot;: null, &quot;dashOffset&quot;: null, &quot;fill&quot;: true, &quot;fillColor&quot;: &quot;#3186cc&quot;, &quot;fillOpacity&quot;: 0.2, &quot;fillRule&quot;: &quot;evenodd&quot;, &quot;lineCap&quot;: &quot;round&quot;, &quot;lineJoin&quot;: &quot;round&quot;, &quot;opacity&quot;: 1.0, &quot;radius&quot;: 1000, &quot;stroke&quot;: true, &quot;weight&quot;: 3}\n            ).addTo(map_3e6957d04fd0699d9f8fa4c91470f99c);\n        \n    \n        var popup_b4e4dcb6bdb9a8ee752bfbe37ee527c2 = L.popup({\n  &quot;maxWidth&quot;: &quot;100%&quot;,\n});\n\n        \n            \n                var html_ada5895e2d5b5667ad5cba09ad45ff09 = $(`&lt;div id=&quot;html_ada5895e2d5b5667ad5cba09ad45ff09&quot; style=&quot;width: 100.0%; height: 100.0%;&quot;&gt;CCAFS LC-40&lt;/div&gt;`)[0];\n                popup_b4e4dcb6bdb9a8ee752bfbe37ee527c2.setContent(html_ada5895e2d5b5667ad5cba09ad45ff09);\n            \n        \n\n        circle_2fac856c0af23a1d15b0a01f78f09690.bindPopup(popup_b4e4dcb6bdb9a8ee752bfbe37ee527c2)\n        ;\n\n        \n    \n    \n            var marker_0b48e1e4b2a2cb7abee7a6e3aed51791 = L.marker(\n                [28.5623, -80.5774],\n                {\n}\n            ).addTo(map_3e6957d04fd0699d9f8fa4c91470f99c);\n        \n    \n            var div_icon_890c5501679d8f60a24a6a2f4956755c = L.divIcon({\n  &quot;html&quot;: &quot;\\u003cdiv style=\\u0027font-size: 12px; color:#d35400;\\u0027\\u003e\\u003cb\\u003eCCAFS LC-40\\u003c/b\\u003e\\u003c/div\\u003e&quot;,\n  &quot;iconSize&quot;: [20, 20],\n  &quot;iconAnchor&quot;: [0, 0],\n  &quot;className&quot;: &quot;empty&quot;,\n});\n            marker_0b48e1e4b2a2cb7abee7a6e3aed51791.setIcon(div_icon_890c5501679d8f60a24a6a2f4956755c);\n        \n    \n            var circle_23d94def11d5c8ee0c9cc42cce25f403 = L.circle(\n                [34.6321, -120.6108],\n                {&quot;bubblingMouseEvents&quot;: true, &quot;color&quot;: &quot;#000000&quot;, &quot;dashArray&quot;: null, &quot;dashOffset&quot;: null, &quot;fill&quot;: true, &quot;fillColor&quot;: &quot;#3186cc&quot;, &quot;fillOpacity&quot;: 0.2, &quot;fillRule&quot;: &quot;evenodd&quot;, &quot;lineCap&quot;: &quot;round&quot;, &quot;lineJoin&quot;: &quot;round&quot;, &quot;opacity&quot;: 1.0, &quot;radius&quot;: 1000, &quot;stroke&quot;: true, &quot;weight&quot;: 3}\n            ).addTo(map_3e6957d04fd0699d9f8fa4c91470f99c);\n        \n    \n        var popup_1b6d2fff8a15415e674e7b2f708f4c76 = L.popup({\n  &quot;maxWidth&quot;: &quot;100%&quot;,\n});\n\n        \n            \n                var html_d8da3a9e2625ee55612618c2221f475f = $(`&lt;div id=&quot;html_d8da3a9e2625ee55612618c2221f475f&quot; style=&quot;width: 100.0%; height: 100.0%;&quot;&gt;VAFB SLC-4E&lt;/div&gt;`)[0];\n                popup_1b6d2fff8a15415e674e7b2f708f4c76.setContent(html_d8da3a9e2625ee55612618c2221f475f);\n            \n        \n\n        circle_23d94def11d5c8ee0c9cc42cce25f403.bindPopup(popup_1b6d2fff8a15415e674e7b2f708f4c76)\n        ;\n\n        \n    \n    \n            var marker_550856d46c204626a8fc5411a6a2f7ab = L.marker(\n                [34.6321, -120.6108],\n                {\n}\n            ).addTo(map_3e6957d04fd0699d9f8fa4c91470f99c);\n        \n    \n            var div_icon_9e33063bb1beec36cfe1c913293267b1 = L.divIcon({\n  &quot;html&quot;: &quot;\\u003cdiv style=\\u0027font-size: 12px; color:#d35400;\\u0027\\u003e\\u003cb\\u003eVAFB SLC-4E\\u003c/b\\u003e\\u003c/div\\u003e&quot;,\n  &quot;iconSize&quot;: [20, 20],\n  &quot;iconAnchor&quot;: [0, 0],\n  &quot;className&quot;: &quot;empty&quot;,\n});\n            marker_550856d46c204626a8fc5411a6a2f7ab.setIcon(div_icon_9e33063bb1beec36cfe1c913293267b1);\n        \n    \n            var circle_a78cf32ec8a451a4ce3aedb0e8704a24 = L.circle(\n                [28.5733, -80.6469],\n                {&quot;bubblingMouseEvents&quot;: true, &quot;color&quot;: &quot;#000000&quot;, &quot;dashArray&quot;: null, &quot;dashOffset&quot;: null, &quot;fill&quot;: true, &quot;fillColor&quot;: &quot;#3186cc&quot;, &quot;fillOpacity&quot;: 0.2, &quot;fillRule&quot;: &quot;evenodd&quot;, &quot;lineCap&quot;: &quot;round&quot;, &quot;lineJoin&quot;: &quot;round&quot;, &quot;opacity&quot;: 1.0, &quot;radius&quot;: 1000, &quot;stroke&quot;: true, &quot;weight&quot;: 3}\n            ).addTo(map_3e6957d04fd0699d9f8fa4c91470f99c);\n        \n    \n        var popup_45cbbf349dbbc3d853b6206f19a1c527 = L.popup({\n  &quot;maxWidth&quot;: &quot;100%&quot;,\n});\n\n        \n            \n                var html_adfc34cdce9e3d5511d822aa65c74fcf = $(`&lt;div id=&quot;html_adfc34cdce9e3d5511d822aa65c74fcf&quot; style=&quot;width: 100.0%; height: 100.0%;&quot;&gt;KSC LC-39A&lt;/div&gt;`)[0];\n                popup_45cbbf349dbbc3d853b6206f19a1c527.setContent(html_adfc34cdce9e3d5511d822aa65c74fcf);\n            \n        \n\n        circle_a78cf32ec8a451a4ce3aedb0e8704a24.bindPopup(popup_45cbbf349dbbc3d853b6206f19a1c527)\n        ;\n\n        \n    \n    \n            var marker_cacb7b09cd9c5aae2f606e4b3369bb71 = L.marker(\n                [28.5733, -80.6469],\n                {\n}\n            ).addTo(map_3e6957d04fd0699d9f8fa4c91470f99c);\n        \n    \n            var div_icon_66c033dfd9057fee39d30cee6d456c3e = L.divIcon({\n  &quot;html&quot;: &quot;\\u003cdiv style=\\u0027font-size: 12px; color:#d35400;\\u0027\\u003e\\u003cb\\u003eKSC LC-39A\\u003c/b\\u003e\\u003c/div\\u003e&quot;,\n  &quot;iconSize&quot;: [20, 20],\n  &quot;iconAnchor&quot;: [0, 0],\n  &quot;className&quot;: &quot;empty&quot;,\n});\n            marker_cacb7b09cd9c5aae2f606e4b3369bb71.setIcon(div_icon_66c033dfd9057fee39d30cee6d456c3e);\n        \n&lt;/script&gt;\n&lt;/html&gt;\" style=\"position:absolute;width:100%;height:100%;left:0;top:0;border:none !important;\" allowfullscreen webkitallowfullscreen mozallowfullscreen></iframe></div></div>"
          },
          "metadata": {}
        }
      ],
      "execution_count": 13
    },
    {
      "cell_type": "markdown",
      "source": "The generated map with marked launch sites should look similar to the following:\n",
      "metadata": {}
    },
    {
      "cell_type": "markdown",
      "source": "<center>\n    <img src=\"https://cf-courses-data.s3.us.cloud-object-storage.appdomain.cloud/IBM-DS0321EN-SkillsNetwork/labs/module_3/images/launch_site_markers.png\">\n</center>\n",
      "metadata": {}
    },
    {
      "cell_type": "markdown",
      "source": "Now, you can explore the map by zoom-in/out the marked areas\n, and try to answer the following questions:\n\n*   Are all launch sites in proximity to the Equator line?\n*   Are all launch sites in very close proximity to the coast?\n\nAlso please try to explain your findings.\n",
      "metadata": {}
    },
    {
      "cell_type": "code",
      "source": "import pandas as pd\n\n# Sample DataFrame definition (replace with your actual data)\ndata = {\n    \"Launch_Site\": [\"CCAFS LC-40\", \"KSC LC-39A\", \"VAFB SLC-4E\", \"CCAFS LC-40\"],\n    \"Latitude\": [28.562302, 28.573255, 34.632093, 28.562302],\n    \"Longitude\": [-80.577356, -80.646895, -120.610829, -80.577356],\n    \"Class\": [1, 0, 1, 0],\n}\ndf = pd.DataFrame(data)\n\n# Add markers for success/failure launches\nfor index, row in df.iterrows():\n    marker_color = \"green\" if row[\"Class\"] == 1 else \"red\"\n    folium.Marker(\n        location=[row[\"Latitude\"], row[\"Longitude\"]],\n        icon=folium.Icon(color=marker_color, icon=\"info-sign\"),\n        popup=f\"Launch Site: {row['Launch_Site']}<br>Outcome: {'Success' if row['Class'] == 1 else 'Failure'}\",\n    ).add_to(site_map)\nsite_map",
      "metadata": {
        "trusted": true
      },
      "outputs": [
        {
          "execution_count": 18,
          "output_type": "execute_result",
          "data": {
            "text/plain": "<folium.folium.Map at 0x5fe11b8>",
            "text/html": "<div style=\"width:100%;\"><div style=\"position:relative;width:100%;height:0;padding-bottom:60%;\"><span style=\"color:#565656\">Make this Notebook Trusted to load map: File -> Trust Notebook</span><iframe srcdoc=\"&lt;!DOCTYPE html&gt;\n&lt;html&gt;\n&lt;head&gt;\n    \n    &lt;meta http-equiv=&quot;content-type&quot; content=&quot;text/html; charset=UTF-8&quot; /&gt;\n    \n        &lt;script&gt;\n            L_NO_TOUCH = false;\n            L_DISABLE_3D = false;\n        &lt;/script&gt;\n    \n    &lt;style&gt;html, body {width: 100%;height: 100%;margin: 0;padding: 0;}&lt;/style&gt;\n    &lt;style&gt;#map {position:absolute;top:0;bottom:0;right:0;left:0;}&lt;/style&gt;\n    &lt;script src=&quot;https://cdn.jsdelivr.net/npm/leaflet@1.9.3/dist/leaflet.js&quot;&gt;&lt;/script&gt;\n    &lt;script src=&quot;https://code.jquery.com/jquery-3.7.1.min.js&quot;&gt;&lt;/script&gt;\n    &lt;script src=&quot;https://cdn.jsdelivr.net/npm/bootstrap@5.2.2/dist/js/bootstrap.bundle.min.js&quot;&gt;&lt;/script&gt;\n    &lt;script src=&quot;https://cdnjs.cloudflare.com/ajax/libs/Leaflet.awesome-markers/2.0.2/leaflet.awesome-markers.js&quot;&gt;&lt;/script&gt;\n    &lt;link rel=&quot;stylesheet&quot; href=&quot;https://cdn.jsdelivr.net/npm/leaflet@1.9.3/dist/leaflet.css&quot;/&gt;\n    &lt;link rel=&quot;stylesheet&quot; href=&quot;https://cdn.jsdelivr.net/npm/bootstrap@5.2.2/dist/css/bootstrap.min.css&quot;/&gt;\n    &lt;link rel=&quot;stylesheet&quot; href=&quot;https://netdna.bootstrapcdn.com/bootstrap/3.0.0/css/bootstrap-glyphicons.css&quot;/&gt;\n    &lt;link rel=&quot;stylesheet&quot; href=&quot;https://cdn.jsdelivr.net/npm/@fortawesome/fontawesome-free@6.2.0/css/all.min.css&quot;/&gt;\n    &lt;link rel=&quot;stylesheet&quot; href=&quot;https://cdnjs.cloudflare.com/ajax/libs/Leaflet.awesome-markers/2.0.2/leaflet.awesome-markers.css&quot;/&gt;\n    &lt;link rel=&quot;stylesheet&quot; href=&quot;https://cdn.jsdelivr.net/gh/python-visualization/folium/folium/templates/leaflet.awesome.rotate.min.css&quot;/&gt;\n    \n            &lt;meta name=&quot;viewport&quot; content=&quot;width=device-width,\n                initial-scale=1.0, maximum-scale=1.0, user-scalable=no&quot; /&gt;\n            &lt;style&gt;\n                #map_3e6957d04fd0699d9f8fa4c91470f99c {\n                    position: relative;\n                    width: 100.0%;\n                    height: 100.0%;\n                    left: 0.0%;\n                    top: 0.0%;\n                }\n                .leaflet-container { font-size: 1rem; }\n            &lt;/style&gt;\n        \n&lt;/head&gt;\n&lt;body&gt;\n    \n    \n            &lt;div class=&quot;folium-map&quot; id=&quot;map_3e6957d04fd0699d9f8fa4c91470f99c&quot; &gt;&lt;/div&gt;\n        \n&lt;/body&gt;\n&lt;script&gt;\n    \n    \n            var map_3e6957d04fd0699d9f8fa4c91470f99c = L.map(\n                &quot;map_3e6957d04fd0699d9f8fa4c91470f99c&quot;,\n                {\n                    center: [29.559684888503615, -95.0830971930759],\n                    crs: L.CRS.EPSG3857,\n                    ...{\n  &quot;zoom&quot;: 5,\n  &quot;zoomControl&quot;: true,\n  &quot;preferCanvas&quot;: false,\n}\n\n                }\n            );\n\n            \n\n        \n    \n            var tile_layer_9bc8e3b2829f11cd3f8e497b89543434 = L.tileLayer(\n                &quot;https://tile.openstreetmap.org/{z}/{x}/{y}.png&quot;,\n                {\n  &quot;minZoom&quot;: 0,\n  &quot;maxZoom&quot;: 19,\n  &quot;maxNativeZoom&quot;: 19,\n  &quot;noWrap&quot;: false,\n  &quot;attribution&quot;: &quot;\\u0026copy; \\u003ca href=\\&quot;https://www.openstreetmap.org/copyright\\&quot;\\u003eOpenStreetMap\\u003c/a\\u003e contributors&quot;,\n  &quot;subdomains&quot;: &quot;abc&quot;,\n  &quot;detectRetina&quot;: false,\n  &quot;tms&quot;: false,\n  &quot;opacity&quot;: 1,\n}\n\n            );\n        \n    \n            tile_layer_9bc8e3b2829f11cd3f8e497b89543434.addTo(map_3e6957d04fd0699d9f8fa4c91470f99c);\n        \n    \n            var circle_2fac856c0af23a1d15b0a01f78f09690 = L.circle(\n                [28.5623, -80.5774],\n                {&quot;bubblingMouseEvents&quot;: true, &quot;color&quot;: &quot;#000000&quot;, &quot;dashArray&quot;: null, &quot;dashOffset&quot;: null, &quot;fill&quot;: true, &quot;fillColor&quot;: &quot;#3186cc&quot;, &quot;fillOpacity&quot;: 0.2, &quot;fillRule&quot;: &quot;evenodd&quot;, &quot;lineCap&quot;: &quot;round&quot;, &quot;lineJoin&quot;: &quot;round&quot;, &quot;opacity&quot;: 1.0, &quot;radius&quot;: 1000, &quot;stroke&quot;: true, &quot;weight&quot;: 3}\n            ).addTo(map_3e6957d04fd0699d9f8fa4c91470f99c);\n        \n    \n        var popup_b4e4dcb6bdb9a8ee752bfbe37ee527c2 = L.popup({\n  &quot;maxWidth&quot;: &quot;100%&quot;,\n});\n\n        \n            \n                var html_ada5895e2d5b5667ad5cba09ad45ff09 = $(`&lt;div id=&quot;html_ada5895e2d5b5667ad5cba09ad45ff09&quot; style=&quot;width: 100.0%; height: 100.0%;&quot;&gt;CCAFS LC-40&lt;/div&gt;`)[0];\n                popup_b4e4dcb6bdb9a8ee752bfbe37ee527c2.setContent(html_ada5895e2d5b5667ad5cba09ad45ff09);\n            \n        \n\n        circle_2fac856c0af23a1d15b0a01f78f09690.bindPopup(popup_b4e4dcb6bdb9a8ee752bfbe37ee527c2)\n        ;\n\n        \n    \n    \n            var marker_0b48e1e4b2a2cb7abee7a6e3aed51791 = L.marker(\n                [28.5623, -80.5774],\n                {\n}\n            ).addTo(map_3e6957d04fd0699d9f8fa4c91470f99c);\n        \n    \n            var div_icon_890c5501679d8f60a24a6a2f4956755c = L.divIcon({\n  &quot;html&quot;: &quot;\\u003cdiv style=\\u0027font-size: 12px; color:#d35400;\\u0027\\u003e\\u003cb\\u003eCCAFS LC-40\\u003c/b\\u003e\\u003c/div\\u003e&quot;,\n  &quot;iconSize&quot;: [20, 20],\n  &quot;iconAnchor&quot;: [0, 0],\n  &quot;className&quot;: &quot;empty&quot;,\n});\n            marker_0b48e1e4b2a2cb7abee7a6e3aed51791.setIcon(div_icon_890c5501679d8f60a24a6a2f4956755c);\n        \n    \n            var circle_23d94def11d5c8ee0c9cc42cce25f403 = L.circle(\n                [34.6321, -120.6108],\n                {&quot;bubblingMouseEvents&quot;: true, &quot;color&quot;: &quot;#000000&quot;, &quot;dashArray&quot;: null, &quot;dashOffset&quot;: null, &quot;fill&quot;: true, &quot;fillColor&quot;: &quot;#3186cc&quot;, &quot;fillOpacity&quot;: 0.2, &quot;fillRule&quot;: &quot;evenodd&quot;, &quot;lineCap&quot;: &quot;round&quot;, &quot;lineJoin&quot;: &quot;round&quot;, &quot;opacity&quot;: 1.0, &quot;radius&quot;: 1000, &quot;stroke&quot;: true, &quot;weight&quot;: 3}\n            ).addTo(map_3e6957d04fd0699d9f8fa4c91470f99c);\n        \n    \n        var popup_1b6d2fff8a15415e674e7b2f708f4c76 = L.popup({\n  &quot;maxWidth&quot;: &quot;100%&quot;,\n});\n\n        \n            \n                var html_d8da3a9e2625ee55612618c2221f475f = $(`&lt;div id=&quot;html_d8da3a9e2625ee55612618c2221f475f&quot; style=&quot;width: 100.0%; height: 100.0%;&quot;&gt;VAFB SLC-4E&lt;/div&gt;`)[0];\n                popup_1b6d2fff8a15415e674e7b2f708f4c76.setContent(html_d8da3a9e2625ee55612618c2221f475f);\n            \n        \n\n        circle_23d94def11d5c8ee0c9cc42cce25f403.bindPopup(popup_1b6d2fff8a15415e674e7b2f708f4c76)\n        ;\n\n        \n    \n    \n            var marker_550856d46c204626a8fc5411a6a2f7ab = L.marker(\n                [34.6321, -120.6108],\n                {\n}\n            ).addTo(map_3e6957d04fd0699d9f8fa4c91470f99c);\n        \n    \n            var div_icon_9e33063bb1beec36cfe1c913293267b1 = L.divIcon({\n  &quot;html&quot;: &quot;\\u003cdiv style=\\u0027font-size: 12px; color:#d35400;\\u0027\\u003e\\u003cb\\u003eVAFB SLC-4E\\u003c/b\\u003e\\u003c/div\\u003e&quot;,\n  &quot;iconSize&quot;: [20, 20],\n  &quot;iconAnchor&quot;: [0, 0],\n  &quot;className&quot;: &quot;empty&quot;,\n});\n            marker_550856d46c204626a8fc5411a6a2f7ab.setIcon(div_icon_9e33063bb1beec36cfe1c913293267b1);\n        \n    \n            var circle_a78cf32ec8a451a4ce3aedb0e8704a24 = L.circle(\n                [28.5733, -80.6469],\n                {&quot;bubblingMouseEvents&quot;: true, &quot;color&quot;: &quot;#000000&quot;, &quot;dashArray&quot;: null, &quot;dashOffset&quot;: null, &quot;fill&quot;: true, &quot;fillColor&quot;: &quot;#3186cc&quot;, &quot;fillOpacity&quot;: 0.2, &quot;fillRule&quot;: &quot;evenodd&quot;, &quot;lineCap&quot;: &quot;round&quot;, &quot;lineJoin&quot;: &quot;round&quot;, &quot;opacity&quot;: 1.0, &quot;radius&quot;: 1000, &quot;stroke&quot;: true, &quot;weight&quot;: 3}\n            ).addTo(map_3e6957d04fd0699d9f8fa4c91470f99c);\n        \n    \n        var popup_45cbbf349dbbc3d853b6206f19a1c527 = L.popup({\n  &quot;maxWidth&quot;: &quot;100%&quot;,\n});\n\n        \n            \n                var html_adfc34cdce9e3d5511d822aa65c74fcf = $(`&lt;div id=&quot;html_adfc34cdce9e3d5511d822aa65c74fcf&quot; style=&quot;width: 100.0%; height: 100.0%;&quot;&gt;KSC LC-39A&lt;/div&gt;`)[0];\n                popup_45cbbf349dbbc3d853b6206f19a1c527.setContent(html_adfc34cdce9e3d5511d822aa65c74fcf);\n            \n        \n\n        circle_a78cf32ec8a451a4ce3aedb0e8704a24.bindPopup(popup_45cbbf349dbbc3d853b6206f19a1c527)\n        ;\n\n        \n    \n    \n            var marker_cacb7b09cd9c5aae2f606e4b3369bb71 = L.marker(\n                [28.5733, -80.6469],\n                {\n}\n            ).addTo(map_3e6957d04fd0699d9f8fa4c91470f99c);\n        \n    \n            var div_icon_66c033dfd9057fee39d30cee6d456c3e = L.divIcon({\n  &quot;html&quot;: &quot;\\u003cdiv style=\\u0027font-size: 12px; color:#d35400;\\u0027\\u003e\\u003cb\\u003eKSC LC-39A\\u003c/b\\u003e\\u003c/div\\u003e&quot;,\n  &quot;iconSize&quot;: [20, 20],\n  &quot;iconAnchor&quot;: [0, 0],\n  &quot;className&quot;: &quot;empty&quot;,\n});\n            marker_cacb7b09cd9c5aae2f606e4b3369bb71.setIcon(div_icon_66c033dfd9057fee39d30cee6d456c3e);\n        \n    \n            tile_layer_9bc8e3b2829f11cd3f8e497b89543434.addTo(map_3e6957d04fd0699d9f8fa4c91470f99c);\n        \n    \n            var marker_5fbd0d1f8ac2197f5eab84731aee9e3c = L.marker(\n                [28.562302, -80.577356],\n                {\n}\n            ).addTo(map_3e6957d04fd0699d9f8fa4c91470f99c);\n        \n    \n            var icon_43d9d180a83cb7741a3ebfae708d124a = L.AwesomeMarkers.icon(\n                {\n  &quot;markerColor&quot;: &quot;green&quot;,\n  &quot;iconColor&quot;: &quot;white&quot;,\n  &quot;icon&quot;: &quot;info-sign&quot;,\n  &quot;prefix&quot;: &quot;glyphicon&quot;,\n  &quot;extraClasses&quot;: &quot;fa-rotate-0&quot;,\n}\n            );\n            marker_5fbd0d1f8ac2197f5eab84731aee9e3c.setIcon(icon_43d9d180a83cb7741a3ebfae708d124a);\n        \n    \n        var popup_5b2e4681b77ba64f39d4844666a8e4eb = L.popup({\n  &quot;maxWidth&quot;: &quot;100%&quot;,\n});\n\n        \n            \n                var html_9d9af0d70f928ab7b09c5b2fb7f2c79d = $(`&lt;div id=&quot;html_9d9af0d70f928ab7b09c5b2fb7f2c79d&quot; style=&quot;width: 100.0%; height: 100.0%;&quot;&gt;Launch Site: CCAFS LC-40&lt;br&gt;Outcome: Success&lt;/div&gt;`)[0];\n                popup_5b2e4681b77ba64f39d4844666a8e4eb.setContent(html_9d9af0d70f928ab7b09c5b2fb7f2c79d);\n            \n        \n\n        marker_5fbd0d1f8ac2197f5eab84731aee9e3c.bindPopup(popup_5b2e4681b77ba64f39d4844666a8e4eb)\n        ;\n\n        \n    \n    \n            var marker_b72577678148ffc501e182cd1ef30579 = L.marker(\n                [28.573255, -80.646895],\n                {\n}\n            ).addTo(map_3e6957d04fd0699d9f8fa4c91470f99c);\n        \n    \n            var icon_104a5cb3df6f099135f8b0a3bd3446d7 = L.AwesomeMarkers.icon(\n                {\n  &quot;markerColor&quot;: &quot;red&quot;,\n  &quot;iconColor&quot;: &quot;white&quot;,\n  &quot;icon&quot;: &quot;info-sign&quot;,\n  &quot;prefix&quot;: &quot;glyphicon&quot;,\n  &quot;extraClasses&quot;: &quot;fa-rotate-0&quot;,\n}\n            );\n            marker_b72577678148ffc501e182cd1ef30579.setIcon(icon_104a5cb3df6f099135f8b0a3bd3446d7);\n        \n    \n        var popup_9b6a9a45f106857a35135951cd3b51ed = L.popup({\n  &quot;maxWidth&quot;: &quot;100%&quot;,\n});\n\n        \n            \n                var html_58f592f7e5151f24f214aec01acd8506 = $(`&lt;div id=&quot;html_58f592f7e5151f24f214aec01acd8506&quot; style=&quot;width: 100.0%; height: 100.0%;&quot;&gt;Launch Site: KSC LC-39A&lt;br&gt;Outcome: Failure&lt;/div&gt;`)[0];\n                popup_9b6a9a45f106857a35135951cd3b51ed.setContent(html_58f592f7e5151f24f214aec01acd8506);\n            \n        \n\n        marker_b72577678148ffc501e182cd1ef30579.bindPopup(popup_9b6a9a45f106857a35135951cd3b51ed)\n        ;\n\n        \n    \n    \n            var marker_391faa2992cb853fee7575bca750dd17 = L.marker(\n                [34.632093, -120.610829],\n                {\n}\n            ).addTo(map_3e6957d04fd0699d9f8fa4c91470f99c);\n        \n    \n            var icon_98d1578f7460e1ef771516a1e79707db = L.AwesomeMarkers.icon(\n                {\n  &quot;markerColor&quot;: &quot;green&quot;,\n  &quot;iconColor&quot;: &quot;white&quot;,\n  &quot;icon&quot;: &quot;info-sign&quot;,\n  &quot;prefix&quot;: &quot;glyphicon&quot;,\n  &quot;extraClasses&quot;: &quot;fa-rotate-0&quot;,\n}\n            );\n            marker_391faa2992cb853fee7575bca750dd17.setIcon(icon_98d1578f7460e1ef771516a1e79707db);\n        \n    \n        var popup_468f17aa375bd153cf47629a41255cd7 = L.popup({\n  &quot;maxWidth&quot;: &quot;100%&quot;,\n});\n\n        \n            \n                var html_251cfc7dcde1f1e328712158d8db75ed = $(`&lt;div id=&quot;html_251cfc7dcde1f1e328712158d8db75ed&quot; style=&quot;width: 100.0%; height: 100.0%;&quot;&gt;Launch Site: VAFB SLC-4E&lt;br&gt;Outcome: Success&lt;/div&gt;`)[0];\n                popup_468f17aa375bd153cf47629a41255cd7.setContent(html_251cfc7dcde1f1e328712158d8db75ed);\n            \n        \n\n        marker_391faa2992cb853fee7575bca750dd17.bindPopup(popup_468f17aa375bd153cf47629a41255cd7)\n        ;\n\n        \n    \n    \n            var marker_059beef4843b5694c026b67904f7c1e3 = L.marker(\n                [28.562302, -80.577356],\n                {\n}\n            ).addTo(map_3e6957d04fd0699d9f8fa4c91470f99c);\n        \n    \n            var icon_d814a08adaca8b5935889074da9a8fd7 = L.AwesomeMarkers.icon(\n                {\n  &quot;markerColor&quot;: &quot;red&quot;,\n  &quot;iconColor&quot;: &quot;white&quot;,\n  &quot;icon&quot;: &quot;info-sign&quot;,\n  &quot;prefix&quot;: &quot;glyphicon&quot;,\n  &quot;extraClasses&quot;: &quot;fa-rotate-0&quot;,\n}\n            );\n            marker_059beef4843b5694c026b67904f7c1e3.setIcon(icon_d814a08adaca8b5935889074da9a8fd7);\n        \n    \n        var popup_4961b1a2a0a346fd7238324c3c909dbc = L.popup({\n  &quot;maxWidth&quot;: &quot;100%&quot;,\n});\n\n        \n            \n                var html_4b47f7454c103392814af2338e882a10 = $(`&lt;div id=&quot;html_4b47f7454c103392814af2338e882a10&quot; style=&quot;width: 100.0%; height: 100.0%;&quot;&gt;Launch Site: CCAFS LC-40&lt;br&gt;Outcome: Failure&lt;/div&gt;`)[0];\n                popup_4961b1a2a0a346fd7238324c3c909dbc.setContent(html_4b47f7454c103392814af2338e882a10);\n            \n        \n\n        marker_059beef4843b5694c026b67904f7c1e3.bindPopup(popup_4961b1a2a0a346fd7238324c3c909dbc)\n        ;\n\n        \n    \n    \n            var marker_524c7fb497fb0105e58158f6abe9ed09 = L.marker(\n                [28.562302, -80.577356],\n                {\n}\n            ).addTo(map_3e6957d04fd0699d9f8fa4c91470f99c);\n        \n    \n            var icon_2506bee109b067e12ff7f9321dd66f7c = L.AwesomeMarkers.icon(\n                {\n  &quot;markerColor&quot;: &quot;green&quot;,\n  &quot;iconColor&quot;: &quot;white&quot;,\n  &quot;icon&quot;: &quot;info-sign&quot;,\n  &quot;prefix&quot;: &quot;glyphicon&quot;,\n  &quot;extraClasses&quot;: &quot;fa-rotate-0&quot;,\n}\n            );\n            marker_524c7fb497fb0105e58158f6abe9ed09.setIcon(icon_2506bee109b067e12ff7f9321dd66f7c);\n        \n    \n        var popup_a9d4badae213a51fac18f5f215af32ee = L.popup({\n  &quot;maxWidth&quot;: &quot;100%&quot;,\n});\n\n        \n            \n                var html_15d6dc4d090b2e83a3d883c05d809f19 = $(`&lt;div id=&quot;html_15d6dc4d090b2e83a3d883c05d809f19&quot; style=&quot;width: 100.0%; height: 100.0%;&quot;&gt;Launch Site: CCAFS LC-40&lt;br&gt;Outcome: Success&lt;/div&gt;`)[0];\n                popup_a9d4badae213a51fac18f5f215af32ee.setContent(html_15d6dc4d090b2e83a3d883c05d809f19);\n            \n        \n\n        marker_524c7fb497fb0105e58158f6abe9ed09.bindPopup(popup_a9d4badae213a51fac18f5f215af32ee)\n        ;\n\n        \n    \n    \n            var marker_7eb04a07e566eb6813bad5eaeba81a1c = L.marker(\n                [28.573255, -80.646895],\n                {\n}\n            ).addTo(map_3e6957d04fd0699d9f8fa4c91470f99c);\n        \n    \n            var icon_a1649ecd91ee473374c6043e47ccfcd1 = L.AwesomeMarkers.icon(\n                {\n  &quot;markerColor&quot;: &quot;red&quot;,\n  &quot;iconColor&quot;: &quot;white&quot;,\n  &quot;icon&quot;: &quot;info-sign&quot;,\n  &quot;prefix&quot;: &quot;glyphicon&quot;,\n  &quot;extraClasses&quot;: &quot;fa-rotate-0&quot;,\n}\n            );\n            marker_7eb04a07e566eb6813bad5eaeba81a1c.setIcon(icon_a1649ecd91ee473374c6043e47ccfcd1);\n        \n    \n        var popup_a29fe080c32bf311e3cee4680ea16e3d = L.popup({\n  &quot;maxWidth&quot;: &quot;100%&quot;,\n});\n\n        \n            \n                var html_f7efc6f11b6d63f0d8d896ecf9fdf7bb = $(`&lt;div id=&quot;html_f7efc6f11b6d63f0d8d896ecf9fdf7bb&quot; style=&quot;width: 100.0%; height: 100.0%;&quot;&gt;Launch Site: KSC LC-39A&lt;br&gt;Outcome: Failure&lt;/div&gt;`)[0];\n                popup_a29fe080c32bf311e3cee4680ea16e3d.setContent(html_f7efc6f11b6d63f0d8d896ecf9fdf7bb);\n            \n        \n\n        marker_7eb04a07e566eb6813bad5eaeba81a1c.bindPopup(popup_a29fe080c32bf311e3cee4680ea16e3d)\n        ;\n\n        \n    \n    \n            var marker_c4c33ca9d1c0d90d0fb6410e96767e6f = L.marker(\n                [34.632093, -120.610829],\n                {\n}\n            ).addTo(map_3e6957d04fd0699d9f8fa4c91470f99c);\n        \n    \n            var icon_785bc4a3b2f660e1d4154d36913abc51 = L.AwesomeMarkers.icon(\n                {\n  &quot;markerColor&quot;: &quot;green&quot;,\n  &quot;iconColor&quot;: &quot;white&quot;,\n  &quot;icon&quot;: &quot;info-sign&quot;,\n  &quot;prefix&quot;: &quot;glyphicon&quot;,\n  &quot;extraClasses&quot;: &quot;fa-rotate-0&quot;,\n}\n            );\n            marker_c4c33ca9d1c0d90d0fb6410e96767e6f.setIcon(icon_785bc4a3b2f660e1d4154d36913abc51);\n        \n    \n        var popup_4ca47775e45a18bf34b2dd5a68b5c12c = L.popup({\n  &quot;maxWidth&quot;: &quot;100%&quot;,\n});\n\n        \n            \n                var html_c52b429b881649e1f326d782707768c7 = $(`&lt;div id=&quot;html_c52b429b881649e1f326d782707768c7&quot; style=&quot;width: 100.0%; height: 100.0%;&quot;&gt;Launch Site: VAFB SLC-4E&lt;br&gt;Outcome: Success&lt;/div&gt;`)[0];\n                popup_4ca47775e45a18bf34b2dd5a68b5c12c.setContent(html_c52b429b881649e1f326d782707768c7);\n            \n        \n\n        marker_c4c33ca9d1c0d90d0fb6410e96767e6f.bindPopup(popup_4ca47775e45a18bf34b2dd5a68b5c12c)\n        ;\n\n        \n    \n    \n            var marker_2403de6b312cf70b78e87b438b5b7f7f = L.marker(\n                [28.562302, -80.577356],\n                {\n}\n            ).addTo(map_3e6957d04fd0699d9f8fa4c91470f99c);\n        \n    \n            var icon_42172035cb91aa200168d0cac2079918 = L.AwesomeMarkers.icon(\n                {\n  &quot;markerColor&quot;: &quot;red&quot;,\n  &quot;iconColor&quot;: &quot;white&quot;,\n  &quot;icon&quot;: &quot;info-sign&quot;,\n  &quot;prefix&quot;: &quot;glyphicon&quot;,\n  &quot;extraClasses&quot;: &quot;fa-rotate-0&quot;,\n}\n            );\n            marker_2403de6b312cf70b78e87b438b5b7f7f.setIcon(icon_42172035cb91aa200168d0cac2079918);\n        \n    \n        var popup_12f1724d013eefcde7c4dc3749cabec4 = L.popup({\n  &quot;maxWidth&quot;: &quot;100%&quot;,\n});\n\n        \n            \n                var html_c8a7d11ed8df397716ac8b1429269706 = $(`&lt;div id=&quot;html_c8a7d11ed8df397716ac8b1429269706&quot; style=&quot;width: 100.0%; height: 100.0%;&quot;&gt;Launch Site: CCAFS LC-40&lt;br&gt;Outcome: Failure&lt;/div&gt;`)[0];\n                popup_12f1724d013eefcde7c4dc3749cabec4.setContent(html_c8a7d11ed8df397716ac8b1429269706);\n            \n        \n\n        marker_2403de6b312cf70b78e87b438b5b7f7f.bindPopup(popup_12f1724d013eefcde7c4dc3749cabec4)\n        ;\n\n        \n    \n&lt;/script&gt;\n&lt;/html&gt;\" style=\"position:absolute;width:100%;height:100%;left:0;top:0;border:none !important;\" allowfullscreen webkitallowfullscreen mozallowfullscreen></iframe></div></div>"
          },
          "metadata": {}
        }
      ],
      "execution_count": 18
    },
    {
      "cell_type": "markdown",
      "source": "Next, let's try to enhance the map by adding the launch outcomes for each site, and see which sites have high success rates.\nRecall that data frame spacex_df has detailed launch records, and the `class` column indicates if this launch was successful or not\n",
      "metadata": {}
    },
    {
      "cell_type": "code",
      "source": "spacex_df.tail(10)",
      "metadata": {
        "trusted": true
      },
      "outputs": [
        {
          "execution_count": 19,
          "output_type": "execute_result",
          "data": {
            "text/plain": "     Launch Site        Lat       Long  class\n46    KSC LC-39A  28.573255 -80.646895      1\n47    KSC LC-39A  28.573255 -80.646895      1\n48    KSC LC-39A  28.573255 -80.646895      1\n49  CCAFS SLC-40  28.563197 -80.576820      1\n50  CCAFS SLC-40  28.563197 -80.576820      1\n51  CCAFS SLC-40  28.563197 -80.576820      0\n52  CCAFS SLC-40  28.563197 -80.576820      0\n53  CCAFS SLC-40  28.563197 -80.576820      0\n54  CCAFS SLC-40  28.563197 -80.576820      1\n55  CCAFS SLC-40  28.563197 -80.576820      0",
            "text/html": "<div>\n<style scoped>\n    .dataframe tbody tr th:only-of-type {\n        vertical-align: middle;\n    }\n\n    .dataframe tbody tr th {\n        vertical-align: top;\n    }\n\n    .dataframe thead th {\n        text-align: right;\n    }\n</style>\n<table border=\"1\" class=\"dataframe\">\n  <thead>\n    <tr style=\"text-align: right;\">\n      <th></th>\n      <th>Launch Site</th>\n      <th>Lat</th>\n      <th>Long</th>\n      <th>class</th>\n    </tr>\n  </thead>\n  <tbody>\n    <tr>\n      <th>46</th>\n      <td>KSC LC-39A</td>\n      <td>28.573255</td>\n      <td>-80.646895</td>\n      <td>1</td>\n    </tr>\n    <tr>\n      <th>47</th>\n      <td>KSC LC-39A</td>\n      <td>28.573255</td>\n      <td>-80.646895</td>\n      <td>1</td>\n    </tr>\n    <tr>\n      <th>48</th>\n      <td>KSC LC-39A</td>\n      <td>28.573255</td>\n      <td>-80.646895</td>\n      <td>1</td>\n    </tr>\n    <tr>\n      <th>49</th>\n      <td>CCAFS SLC-40</td>\n      <td>28.563197</td>\n      <td>-80.576820</td>\n      <td>1</td>\n    </tr>\n    <tr>\n      <th>50</th>\n      <td>CCAFS SLC-40</td>\n      <td>28.563197</td>\n      <td>-80.576820</td>\n      <td>1</td>\n    </tr>\n    <tr>\n      <th>51</th>\n      <td>CCAFS SLC-40</td>\n      <td>28.563197</td>\n      <td>-80.576820</td>\n      <td>0</td>\n    </tr>\n    <tr>\n      <th>52</th>\n      <td>CCAFS SLC-40</td>\n      <td>28.563197</td>\n      <td>-80.576820</td>\n      <td>0</td>\n    </tr>\n    <tr>\n      <th>53</th>\n      <td>CCAFS SLC-40</td>\n      <td>28.563197</td>\n      <td>-80.576820</td>\n      <td>0</td>\n    </tr>\n    <tr>\n      <th>54</th>\n      <td>CCAFS SLC-40</td>\n      <td>28.563197</td>\n      <td>-80.576820</td>\n      <td>1</td>\n    </tr>\n    <tr>\n      <th>55</th>\n      <td>CCAFS SLC-40</td>\n      <td>28.563197</td>\n      <td>-80.576820</td>\n      <td>0</td>\n    </tr>\n  </tbody>\n</table>\n</div>"
          },
          "metadata": {}
        }
      ],
      "execution_count": 19
    },
    {
      "cell_type": "markdown",
      "source": "Next, let's create markers for all launch records.\nIf a launch was successful `(class=1)`, then we use a green marker and if a launch was failed, we use a red marker `(class=0)`\n",
      "metadata": {}
    },
    {
      "cell_type": "markdown",
      "source": "Note that a launch only happens in one of the four launch sites, which means many launch records will have the exact same coordinate. Marker clusters can be a good way to simplify a map containing many markers having the same coordinate.\n",
      "metadata": {}
    },
    {
      "cell_type": "markdown",
      "source": "Let's first create a `MarkerCluster` object\n",
      "metadata": {}
    },
    {
      "cell_type": "code",
      "source": "marker_cluster = MarkerCluster()\n",
      "metadata": {
        "trusted": true
      },
      "outputs": [],
      "execution_count": 20
    },
    {
      "cell_type": "markdown",
      "source": "*TODO:* Create a new column in `spacex_df` dataframe called `marker_color` to store the marker colors based on the `class` value\n",
      "metadata": {}
    },
    {
      "cell_type": "code",
      "source": "# Create a new column `marker_color` in the DataFrame\ndf['marker_color'] = df['Class'].apply(lambda x: 'green' if x == 1 else 'red')\n\n# Display the updated DataFrame to verify\ndf.head()\n\n# Apply a function to check the value of `class` column\n# If class=1, marker_color value will be green\n# If class=0, marker_color value will be red",
      "metadata": {
        "trusted": true
      },
      "outputs": [
        {
          "execution_count": 21,
          "output_type": "execute_result",
          "data": {
            "text/plain": "   Launch_Site   Latitude   Longitude  Class marker_color\n0  CCAFS LC-40  28.562302  -80.577356      1        green\n1   KSC LC-39A  28.573255  -80.646895      0          red\n2  VAFB SLC-4E  34.632093 -120.610829      1        green\n3  CCAFS LC-40  28.562302  -80.577356      0          red",
            "text/html": "<div>\n<style scoped>\n    .dataframe tbody tr th:only-of-type {\n        vertical-align: middle;\n    }\n\n    .dataframe tbody tr th {\n        vertical-align: top;\n    }\n\n    .dataframe thead th {\n        text-align: right;\n    }\n</style>\n<table border=\"1\" class=\"dataframe\">\n  <thead>\n    <tr style=\"text-align: right;\">\n      <th></th>\n      <th>Launch_Site</th>\n      <th>Latitude</th>\n      <th>Longitude</th>\n      <th>Class</th>\n      <th>marker_color</th>\n    </tr>\n  </thead>\n  <tbody>\n    <tr>\n      <th>0</th>\n      <td>CCAFS LC-40</td>\n      <td>28.562302</td>\n      <td>-80.577356</td>\n      <td>1</td>\n      <td>green</td>\n    </tr>\n    <tr>\n      <th>1</th>\n      <td>KSC LC-39A</td>\n      <td>28.573255</td>\n      <td>-80.646895</td>\n      <td>0</td>\n      <td>red</td>\n    </tr>\n    <tr>\n      <th>2</th>\n      <td>VAFB SLC-4E</td>\n      <td>34.632093</td>\n      <td>-120.610829</td>\n      <td>1</td>\n      <td>green</td>\n    </tr>\n    <tr>\n      <th>3</th>\n      <td>CCAFS LC-40</td>\n      <td>28.562302</td>\n      <td>-80.577356</td>\n      <td>0</td>\n      <td>red</td>\n    </tr>\n  </tbody>\n</table>\n</div>"
          },
          "metadata": {}
        }
      ],
      "execution_count": 21
    },
    {
      "cell_type": "markdown",
      "source": "*TODO:* For each launch result in `spacex_df` data frame, add a `folium.Marker` to `marker_cluster`\n",
      "metadata": {}
    },
    {
      "cell_type": "code",
      "source": "# Add marker_cluster to current site_map\nsite_map.add_child(marker_cluster)\n\n# for each row in spacex_df data frame\n# create a Marker object with its coordinate\n# and customize the Marker's icon property to indicate if this launch was successed or failed, \n# e.g., icon=folium.Icon(color='white', icon_color=row['marker_color']\nfor index, record in spacex_df.iterrows():\n    # TODO: Create and add a Marker cluster to the site map\n    # marker = folium.Marker(...)\n    marker_cluster.add_child(marker)\n\nsite_map",
      "metadata": {
        "trusted": true
      },
      "outputs": [
        {
          "execution_count": 22,
          "output_type": "execute_result",
          "data": {
            "text/plain": "<folium.folium.Map at 0x5fe11b8>",
            "text/html": "<div style=\"width:100%;\"><div style=\"position:relative;width:100%;height:0;padding-bottom:60%;\"><span style=\"color:#565656\">Make this Notebook Trusted to load map: File -> Trust Notebook</span><iframe srcdoc=\"&lt;!DOCTYPE html&gt;\n&lt;html&gt;\n&lt;head&gt;\n    \n    &lt;meta http-equiv=&quot;content-type&quot; content=&quot;text/html; charset=UTF-8&quot; /&gt;\n    \n        &lt;script&gt;\n            L_NO_TOUCH = false;\n            L_DISABLE_3D = false;\n        &lt;/script&gt;\n    \n    &lt;style&gt;html, body {width: 100%;height: 100%;margin: 0;padding: 0;}&lt;/style&gt;\n    &lt;style&gt;#map {position:absolute;top:0;bottom:0;right:0;left:0;}&lt;/style&gt;\n    &lt;script src=&quot;https://cdn.jsdelivr.net/npm/leaflet@1.9.3/dist/leaflet.js&quot;&gt;&lt;/script&gt;\n    &lt;script src=&quot;https://code.jquery.com/jquery-3.7.1.min.js&quot;&gt;&lt;/script&gt;\n    &lt;script src=&quot;https://cdn.jsdelivr.net/npm/bootstrap@5.2.2/dist/js/bootstrap.bundle.min.js&quot;&gt;&lt;/script&gt;\n    &lt;script src=&quot;https://cdnjs.cloudflare.com/ajax/libs/Leaflet.awesome-markers/2.0.2/leaflet.awesome-markers.js&quot;&gt;&lt;/script&gt;\n    &lt;link rel=&quot;stylesheet&quot; href=&quot;https://cdn.jsdelivr.net/npm/leaflet@1.9.3/dist/leaflet.css&quot;/&gt;\n    &lt;link rel=&quot;stylesheet&quot; href=&quot;https://cdn.jsdelivr.net/npm/bootstrap@5.2.2/dist/css/bootstrap.min.css&quot;/&gt;\n    &lt;link rel=&quot;stylesheet&quot; href=&quot;https://netdna.bootstrapcdn.com/bootstrap/3.0.0/css/bootstrap-glyphicons.css&quot;/&gt;\n    &lt;link rel=&quot;stylesheet&quot; href=&quot;https://cdn.jsdelivr.net/npm/@fortawesome/fontawesome-free@6.2.0/css/all.min.css&quot;/&gt;\n    &lt;link rel=&quot;stylesheet&quot; href=&quot;https://cdnjs.cloudflare.com/ajax/libs/Leaflet.awesome-markers/2.0.2/leaflet.awesome-markers.css&quot;/&gt;\n    &lt;link rel=&quot;stylesheet&quot; href=&quot;https://cdn.jsdelivr.net/gh/python-visualization/folium/folium/templates/leaflet.awesome.rotate.min.css&quot;/&gt;\n    \n            &lt;meta name=&quot;viewport&quot; content=&quot;width=device-width,\n                initial-scale=1.0, maximum-scale=1.0, user-scalable=no&quot; /&gt;\n            &lt;style&gt;\n                #map_3e6957d04fd0699d9f8fa4c91470f99c {\n                    position: relative;\n                    width: 100.0%;\n                    height: 100.0%;\n                    left: 0.0%;\n                    top: 0.0%;\n                }\n                .leaflet-container { font-size: 1rem; }\n            &lt;/style&gt;\n        \n    &lt;script src=&quot;https://cdnjs.cloudflare.com/ajax/libs/leaflet.markercluster/1.1.0/leaflet.markercluster.js&quot;&gt;&lt;/script&gt;\n    &lt;link rel=&quot;stylesheet&quot; href=&quot;https://cdnjs.cloudflare.com/ajax/libs/leaflet.markercluster/1.1.0/MarkerCluster.css&quot;/&gt;\n    &lt;link rel=&quot;stylesheet&quot; href=&quot;https://cdnjs.cloudflare.com/ajax/libs/leaflet.markercluster/1.1.0/MarkerCluster.Default.css&quot;/&gt;\n&lt;/head&gt;\n&lt;body&gt;\n    \n    \n            &lt;div class=&quot;folium-map&quot; id=&quot;map_3e6957d04fd0699d9f8fa4c91470f99c&quot; &gt;&lt;/div&gt;\n        \n&lt;/body&gt;\n&lt;script&gt;\n    \n    \n            var map_3e6957d04fd0699d9f8fa4c91470f99c = L.map(\n                &quot;map_3e6957d04fd0699d9f8fa4c91470f99c&quot;,\n                {\n                    center: [29.559684888503615, -95.0830971930759],\n                    crs: L.CRS.EPSG3857,\n                    ...{\n  &quot;zoom&quot;: 5,\n  &quot;zoomControl&quot;: true,\n  &quot;preferCanvas&quot;: false,\n}\n\n                }\n            );\n\n            \n\n        \n    \n            var tile_layer_9bc8e3b2829f11cd3f8e497b89543434 = L.tileLayer(\n                &quot;https://tile.openstreetmap.org/{z}/{x}/{y}.png&quot;,\n                {\n  &quot;minZoom&quot;: 0,\n  &quot;maxZoom&quot;: 19,\n  &quot;maxNativeZoom&quot;: 19,\n  &quot;noWrap&quot;: false,\n  &quot;attribution&quot;: &quot;\\u0026copy; \\u003ca href=\\&quot;https://www.openstreetmap.org/copyright\\&quot;\\u003eOpenStreetMap\\u003c/a\\u003e contributors&quot;,\n  &quot;subdomains&quot;: &quot;abc&quot;,\n  &quot;detectRetina&quot;: false,\n  &quot;tms&quot;: false,\n  &quot;opacity&quot;: 1,\n}\n\n            );\n        \n    \n            tile_layer_9bc8e3b2829f11cd3f8e497b89543434.addTo(map_3e6957d04fd0699d9f8fa4c91470f99c);\n        \n    \n            var circle_2fac856c0af23a1d15b0a01f78f09690 = L.circle(\n                [28.5623, -80.5774],\n                {&quot;bubblingMouseEvents&quot;: true, &quot;color&quot;: &quot;#000000&quot;, &quot;dashArray&quot;: null, &quot;dashOffset&quot;: null, &quot;fill&quot;: true, &quot;fillColor&quot;: &quot;#3186cc&quot;, &quot;fillOpacity&quot;: 0.2, &quot;fillRule&quot;: &quot;evenodd&quot;, &quot;lineCap&quot;: &quot;round&quot;, &quot;lineJoin&quot;: &quot;round&quot;, &quot;opacity&quot;: 1.0, &quot;radius&quot;: 1000, &quot;stroke&quot;: true, &quot;weight&quot;: 3}\n            ).addTo(map_3e6957d04fd0699d9f8fa4c91470f99c);\n        \n    \n        var popup_b4e4dcb6bdb9a8ee752bfbe37ee527c2 = L.popup({\n  &quot;maxWidth&quot;: &quot;100%&quot;,\n});\n\n        \n            \n                var html_ada5895e2d5b5667ad5cba09ad45ff09 = $(`&lt;div id=&quot;html_ada5895e2d5b5667ad5cba09ad45ff09&quot; style=&quot;width: 100.0%; height: 100.0%;&quot;&gt;CCAFS LC-40&lt;/div&gt;`)[0];\n                popup_b4e4dcb6bdb9a8ee752bfbe37ee527c2.setContent(html_ada5895e2d5b5667ad5cba09ad45ff09);\n            \n        \n\n        circle_2fac856c0af23a1d15b0a01f78f09690.bindPopup(popup_b4e4dcb6bdb9a8ee752bfbe37ee527c2)\n        ;\n\n        \n    \n    \n            var marker_0b48e1e4b2a2cb7abee7a6e3aed51791 = L.marker(\n                [28.5623, -80.5774],\n                {\n}\n            ).addTo(map_3e6957d04fd0699d9f8fa4c91470f99c);\n        \n    \n            var div_icon_890c5501679d8f60a24a6a2f4956755c = L.divIcon({\n  &quot;html&quot;: &quot;\\u003cdiv style=\\u0027font-size: 12px; color:#d35400;\\u0027\\u003e\\u003cb\\u003eCCAFS LC-40\\u003c/b\\u003e\\u003c/div\\u003e&quot;,\n  &quot;iconSize&quot;: [20, 20],\n  &quot;iconAnchor&quot;: [0, 0],\n  &quot;className&quot;: &quot;empty&quot;,\n});\n            marker_0b48e1e4b2a2cb7abee7a6e3aed51791.setIcon(div_icon_890c5501679d8f60a24a6a2f4956755c);\n        \n    \n            var circle_23d94def11d5c8ee0c9cc42cce25f403 = L.circle(\n                [34.6321, -120.6108],\n                {&quot;bubblingMouseEvents&quot;: true, &quot;color&quot;: &quot;#000000&quot;, &quot;dashArray&quot;: null, &quot;dashOffset&quot;: null, &quot;fill&quot;: true, &quot;fillColor&quot;: &quot;#3186cc&quot;, &quot;fillOpacity&quot;: 0.2, &quot;fillRule&quot;: &quot;evenodd&quot;, &quot;lineCap&quot;: &quot;round&quot;, &quot;lineJoin&quot;: &quot;round&quot;, &quot;opacity&quot;: 1.0, &quot;radius&quot;: 1000, &quot;stroke&quot;: true, &quot;weight&quot;: 3}\n            ).addTo(map_3e6957d04fd0699d9f8fa4c91470f99c);\n        \n    \n        var popup_1b6d2fff8a15415e674e7b2f708f4c76 = L.popup({\n  &quot;maxWidth&quot;: &quot;100%&quot;,\n});\n\n        \n            \n                var html_d8da3a9e2625ee55612618c2221f475f = $(`&lt;div id=&quot;html_d8da3a9e2625ee55612618c2221f475f&quot; style=&quot;width: 100.0%; height: 100.0%;&quot;&gt;VAFB SLC-4E&lt;/div&gt;`)[0];\n                popup_1b6d2fff8a15415e674e7b2f708f4c76.setContent(html_d8da3a9e2625ee55612618c2221f475f);\n            \n        \n\n        circle_23d94def11d5c8ee0c9cc42cce25f403.bindPopup(popup_1b6d2fff8a15415e674e7b2f708f4c76)\n        ;\n\n        \n    \n    \n            var marker_550856d46c204626a8fc5411a6a2f7ab = L.marker(\n                [34.6321, -120.6108],\n                {\n}\n            ).addTo(map_3e6957d04fd0699d9f8fa4c91470f99c);\n        \n    \n            var div_icon_9e33063bb1beec36cfe1c913293267b1 = L.divIcon({\n  &quot;html&quot;: &quot;\\u003cdiv style=\\u0027font-size: 12px; color:#d35400;\\u0027\\u003e\\u003cb\\u003eVAFB SLC-4E\\u003c/b\\u003e\\u003c/div\\u003e&quot;,\n  &quot;iconSize&quot;: [20, 20],\n  &quot;iconAnchor&quot;: [0, 0],\n  &quot;className&quot;: &quot;empty&quot;,\n});\n            marker_550856d46c204626a8fc5411a6a2f7ab.setIcon(div_icon_9e33063bb1beec36cfe1c913293267b1);\n        \n    \n            var circle_a78cf32ec8a451a4ce3aedb0e8704a24 = L.circle(\n                [28.5733, -80.6469],\n                {&quot;bubblingMouseEvents&quot;: true, &quot;color&quot;: &quot;#000000&quot;, &quot;dashArray&quot;: null, &quot;dashOffset&quot;: null, &quot;fill&quot;: true, &quot;fillColor&quot;: &quot;#3186cc&quot;, &quot;fillOpacity&quot;: 0.2, &quot;fillRule&quot;: &quot;evenodd&quot;, &quot;lineCap&quot;: &quot;round&quot;, &quot;lineJoin&quot;: &quot;round&quot;, &quot;opacity&quot;: 1.0, &quot;radius&quot;: 1000, &quot;stroke&quot;: true, &quot;weight&quot;: 3}\n            ).addTo(map_3e6957d04fd0699d9f8fa4c91470f99c);\n        \n    \n        var popup_45cbbf349dbbc3d853b6206f19a1c527 = L.popup({\n  &quot;maxWidth&quot;: &quot;100%&quot;,\n});\n\n        \n            \n                var html_adfc34cdce9e3d5511d822aa65c74fcf = $(`&lt;div id=&quot;html_adfc34cdce9e3d5511d822aa65c74fcf&quot; style=&quot;width: 100.0%; height: 100.0%;&quot;&gt;KSC LC-39A&lt;/div&gt;`)[0];\n                popup_45cbbf349dbbc3d853b6206f19a1c527.setContent(html_adfc34cdce9e3d5511d822aa65c74fcf);\n            \n        \n\n        circle_a78cf32ec8a451a4ce3aedb0e8704a24.bindPopup(popup_45cbbf349dbbc3d853b6206f19a1c527)\n        ;\n\n        \n    \n    \n            var marker_cacb7b09cd9c5aae2f606e4b3369bb71 = L.marker(\n                [28.5733, -80.6469],\n                {\n}\n            ).addTo(map_3e6957d04fd0699d9f8fa4c91470f99c);\n        \n    \n            var div_icon_66c033dfd9057fee39d30cee6d456c3e = L.divIcon({\n  &quot;html&quot;: &quot;\\u003cdiv style=\\u0027font-size: 12px; color:#d35400;\\u0027\\u003e\\u003cb\\u003eKSC LC-39A\\u003c/b\\u003e\\u003c/div\\u003e&quot;,\n  &quot;iconSize&quot;: [20, 20],\n  &quot;iconAnchor&quot;: [0, 0],\n  &quot;className&quot;: &quot;empty&quot;,\n});\n            marker_cacb7b09cd9c5aae2f606e4b3369bb71.setIcon(div_icon_66c033dfd9057fee39d30cee6d456c3e);\n        \n    \n            tile_layer_9bc8e3b2829f11cd3f8e497b89543434.addTo(map_3e6957d04fd0699d9f8fa4c91470f99c);\n        \n    \n            var marker_5fbd0d1f8ac2197f5eab84731aee9e3c = L.marker(\n                [28.562302, -80.577356],\n                {\n}\n            ).addTo(map_3e6957d04fd0699d9f8fa4c91470f99c);\n        \n    \n            var icon_43d9d180a83cb7741a3ebfae708d124a = L.AwesomeMarkers.icon(\n                {\n  &quot;markerColor&quot;: &quot;green&quot;,\n  &quot;iconColor&quot;: &quot;white&quot;,\n  &quot;icon&quot;: &quot;info-sign&quot;,\n  &quot;prefix&quot;: &quot;glyphicon&quot;,\n  &quot;extraClasses&quot;: &quot;fa-rotate-0&quot;,\n}\n            );\n            marker_5fbd0d1f8ac2197f5eab84731aee9e3c.setIcon(icon_43d9d180a83cb7741a3ebfae708d124a);\n        \n    \n        var popup_5b2e4681b77ba64f39d4844666a8e4eb = L.popup({\n  &quot;maxWidth&quot;: &quot;100%&quot;,\n});\n\n        \n            \n                var html_9d9af0d70f928ab7b09c5b2fb7f2c79d = $(`&lt;div id=&quot;html_9d9af0d70f928ab7b09c5b2fb7f2c79d&quot; style=&quot;width: 100.0%; height: 100.0%;&quot;&gt;Launch Site: CCAFS LC-40&lt;br&gt;Outcome: Success&lt;/div&gt;`)[0];\n                popup_5b2e4681b77ba64f39d4844666a8e4eb.setContent(html_9d9af0d70f928ab7b09c5b2fb7f2c79d);\n            \n        \n\n        marker_5fbd0d1f8ac2197f5eab84731aee9e3c.bindPopup(popup_5b2e4681b77ba64f39d4844666a8e4eb)\n        ;\n\n        \n    \n    \n            var marker_b72577678148ffc501e182cd1ef30579 = L.marker(\n                [28.573255, -80.646895],\n                {\n}\n            ).addTo(map_3e6957d04fd0699d9f8fa4c91470f99c);\n        \n    \n            var icon_104a5cb3df6f099135f8b0a3bd3446d7 = L.AwesomeMarkers.icon(\n                {\n  &quot;markerColor&quot;: &quot;red&quot;,\n  &quot;iconColor&quot;: &quot;white&quot;,\n  &quot;icon&quot;: &quot;info-sign&quot;,\n  &quot;prefix&quot;: &quot;glyphicon&quot;,\n  &quot;extraClasses&quot;: &quot;fa-rotate-0&quot;,\n}\n            );\n            marker_b72577678148ffc501e182cd1ef30579.setIcon(icon_104a5cb3df6f099135f8b0a3bd3446d7);\n        \n    \n        var popup_9b6a9a45f106857a35135951cd3b51ed = L.popup({\n  &quot;maxWidth&quot;: &quot;100%&quot;,\n});\n\n        \n            \n                var html_58f592f7e5151f24f214aec01acd8506 = $(`&lt;div id=&quot;html_58f592f7e5151f24f214aec01acd8506&quot; style=&quot;width: 100.0%; height: 100.0%;&quot;&gt;Launch Site: KSC LC-39A&lt;br&gt;Outcome: Failure&lt;/div&gt;`)[0];\n                popup_9b6a9a45f106857a35135951cd3b51ed.setContent(html_58f592f7e5151f24f214aec01acd8506);\n            \n        \n\n        marker_b72577678148ffc501e182cd1ef30579.bindPopup(popup_9b6a9a45f106857a35135951cd3b51ed)\n        ;\n\n        \n    \n    \n            var marker_391faa2992cb853fee7575bca750dd17 = L.marker(\n                [34.632093, -120.610829],\n                {\n}\n            ).addTo(map_3e6957d04fd0699d9f8fa4c91470f99c);\n        \n    \n            var icon_98d1578f7460e1ef771516a1e79707db = L.AwesomeMarkers.icon(\n                {\n  &quot;markerColor&quot;: &quot;green&quot;,\n  &quot;iconColor&quot;: &quot;white&quot;,\n  &quot;icon&quot;: &quot;info-sign&quot;,\n  &quot;prefix&quot;: &quot;glyphicon&quot;,\n  &quot;extraClasses&quot;: &quot;fa-rotate-0&quot;,\n}\n            );\n            marker_391faa2992cb853fee7575bca750dd17.setIcon(icon_98d1578f7460e1ef771516a1e79707db);\n        \n    \n        var popup_468f17aa375bd153cf47629a41255cd7 = L.popup({\n  &quot;maxWidth&quot;: &quot;100%&quot;,\n});\n\n        \n            \n                var html_251cfc7dcde1f1e328712158d8db75ed = $(`&lt;div id=&quot;html_251cfc7dcde1f1e328712158d8db75ed&quot; style=&quot;width: 100.0%; height: 100.0%;&quot;&gt;Launch Site: VAFB SLC-4E&lt;br&gt;Outcome: Success&lt;/div&gt;`)[0];\n                popup_468f17aa375bd153cf47629a41255cd7.setContent(html_251cfc7dcde1f1e328712158d8db75ed);\n            \n        \n\n        marker_391faa2992cb853fee7575bca750dd17.bindPopup(popup_468f17aa375bd153cf47629a41255cd7)\n        ;\n\n        \n    \n    \n            var marker_059beef4843b5694c026b67904f7c1e3 = L.marker(\n                [28.562302, -80.577356],\n                {\n}\n            ).addTo(map_3e6957d04fd0699d9f8fa4c91470f99c);\n        \n    \n            var icon_d814a08adaca8b5935889074da9a8fd7 = L.AwesomeMarkers.icon(\n                {\n  &quot;markerColor&quot;: &quot;red&quot;,\n  &quot;iconColor&quot;: &quot;white&quot;,\n  &quot;icon&quot;: &quot;info-sign&quot;,\n  &quot;prefix&quot;: &quot;glyphicon&quot;,\n  &quot;extraClasses&quot;: &quot;fa-rotate-0&quot;,\n}\n            );\n            marker_059beef4843b5694c026b67904f7c1e3.setIcon(icon_d814a08adaca8b5935889074da9a8fd7);\n        \n    \n        var popup_4961b1a2a0a346fd7238324c3c909dbc = L.popup({\n  &quot;maxWidth&quot;: &quot;100%&quot;,\n});\n\n        \n            \n                var html_4b47f7454c103392814af2338e882a10 = $(`&lt;div id=&quot;html_4b47f7454c103392814af2338e882a10&quot; style=&quot;width: 100.0%; height: 100.0%;&quot;&gt;Launch Site: CCAFS LC-40&lt;br&gt;Outcome: Failure&lt;/div&gt;`)[0];\n                popup_4961b1a2a0a346fd7238324c3c909dbc.setContent(html_4b47f7454c103392814af2338e882a10);\n            \n        \n\n        marker_059beef4843b5694c026b67904f7c1e3.bindPopup(popup_4961b1a2a0a346fd7238324c3c909dbc)\n        ;\n\n        \n    \n    \n            var marker_524c7fb497fb0105e58158f6abe9ed09 = L.marker(\n                [28.562302, -80.577356],\n                {\n}\n            ).addTo(map_3e6957d04fd0699d9f8fa4c91470f99c);\n        \n    \n            var icon_2506bee109b067e12ff7f9321dd66f7c = L.AwesomeMarkers.icon(\n                {\n  &quot;markerColor&quot;: &quot;green&quot;,\n  &quot;iconColor&quot;: &quot;white&quot;,\n  &quot;icon&quot;: &quot;info-sign&quot;,\n  &quot;prefix&quot;: &quot;glyphicon&quot;,\n  &quot;extraClasses&quot;: &quot;fa-rotate-0&quot;,\n}\n            );\n            marker_524c7fb497fb0105e58158f6abe9ed09.setIcon(icon_2506bee109b067e12ff7f9321dd66f7c);\n        \n    \n        var popup_a9d4badae213a51fac18f5f215af32ee = L.popup({\n  &quot;maxWidth&quot;: &quot;100%&quot;,\n});\n\n        \n            \n                var html_15d6dc4d090b2e83a3d883c05d809f19 = $(`&lt;div id=&quot;html_15d6dc4d090b2e83a3d883c05d809f19&quot; style=&quot;width: 100.0%; height: 100.0%;&quot;&gt;Launch Site: CCAFS LC-40&lt;br&gt;Outcome: Success&lt;/div&gt;`)[0];\n                popup_a9d4badae213a51fac18f5f215af32ee.setContent(html_15d6dc4d090b2e83a3d883c05d809f19);\n            \n        \n\n        marker_524c7fb497fb0105e58158f6abe9ed09.bindPopup(popup_a9d4badae213a51fac18f5f215af32ee)\n        ;\n\n        \n    \n    \n            var marker_7eb04a07e566eb6813bad5eaeba81a1c = L.marker(\n                [28.573255, -80.646895],\n                {\n}\n            ).addTo(map_3e6957d04fd0699d9f8fa4c91470f99c);\n        \n    \n            var icon_a1649ecd91ee473374c6043e47ccfcd1 = L.AwesomeMarkers.icon(\n                {\n  &quot;markerColor&quot;: &quot;red&quot;,\n  &quot;iconColor&quot;: &quot;white&quot;,\n  &quot;icon&quot;: &quot;info-sign&quot;,\n  &quot;prefix&quot;: &quot;glyphicon&quot;,\n  &quot;extraClasses&quot;: &quot;fa-rotate-0&quot;,\n}\n            );\n            marker_7eb04a07e566eb6813bad5eaeba81a1c.setIcon(icon_a1649ecd91ee473374c6043e47ccfcd1);\n        \n    \n        var popup_a29fe080c32bf311e3cee4680ea16e3d = L.popup({\n  &quot;maxWidth&quot;: &quot;100%&quot;,\n});\n\n        \n            \n                var html_f7efc6f11b6d63f0d8d896ecf9fdf7bb = $(`&lt;div id=&quot;html_f7efc6f11b6d63f0d8d896ecf9fdf7bb&quot; style=&quot;width: 100.0%; height: 100.0%;&quot;&gt;Launch Site: KSC LC-39A&lt;br&gt;Outcome: Failure&lt;/div&gt;`)[0];\n                popup_a29fe080c32bf311e3cee4680ea16e3d.setContent(html_f7efc6f11b6d63f0d8d896ecf9fdf7bb);\n            \n        \n\n        marker_7eb04a07e566eb6813bad5eaeba81a1c.bindPopup(popup_a29fe080c32bf311e3cee4680ea16e3d)\n        ;\n\n        \n    \n    \n            var marker_c4c33ca9d1c0d90d0fb6410e96767e6f = L.marker(\n                [34.632093, -120.610829],\n                {\n}\n            ).addTo(map_3e6957d04fd0699d9f8fa4c91470f99c);\n        \n    \n            var icon_785bc4a3b2f660e1d4154d36913abc51 = L.AwesomeMarkers.icon(\n                {\n  &quot;markerColor&quot;: &quot;green&quot;,\n  &quot;iconColor&quot;: &quot;white&quot;,\n  &quot;icon&quot;: &quot;info-sign&quot;,\n  &quot;prefix&quot;: &quot;glyphicon&quot;,\n  &quot;extraClasses&quot;: &quot;fa-rotate-0&quot;,\n}\n            );\n            marker_c4c33ca9d1c0d90d0fb6410e96767e6f.setIcon(icon_785bc4a3b2f660e1d4154d36913abc51);\n        \n    \n        var popup_4ca47775e45a18bf34b2dd5a68b5c12c = L.popup({\n  &quot;maxWidth&quot;: &quot;100%&quot;,\n});\n\n        \n            \n                var html_c52b429b881649e1f326d782707768c7 = $(`&lt;div id=&quot;html_c52b429b881649e1f326d782707768c7&quot; style=&quot;width: 100.0%; height: 100.0%;&quot;&gt;Launch Site: VAFB SLC-4E&lt;br&gt;Outcome: Success&lt;/div&gt;`)[0];\n                popup_4ca47775e45a18bf34b2dd5a68b5c12c.setContent(html_c52b429b881649e1f326d782707768c7);\n            \n        \n\n        marker_c4c33ca9d1c0d90d0fb6410e96767e6f.bindPopup(popup_4ca47775e45a18bf34b2dd5a68b5c12c)\n        ;\n\n        \n    \n    \n            var marker_2403de6b312cf70b78e87b438b5b7f7f = L.marker(\n                [28.562302, -80.577356],\n                {\n}\n            ).addTo(map_3e6957d04fd0699d9f8fa4c91470f99c);\n        \n    \n            var icon_42172035cb91aa200168d0cac2079918 = L.AwesomeMarkers.icon(\n                {\n  &quot;markerColor&quot;: &quot;red&quot;,\n  &quot;iconColor&quot;: &quot;white&quot;,\n  &quot;icon&quot;: &quot;info-sign&quot;,\n  &quot;prefix&quot;: &quot;glyphicon&quot;,\n  &quot;extraClasses&quot;: &quot;fa-rotate-0&quot;,\n}\n            );\n            marker_2403de6b312cf70b78e87b438b5b7f7f.setIcon(icon_42172035cb91aa200168d0cac2079918);\n        \n    \n        var popup_12f1724d013eefcde7c4dc3749cabec4 = L.popup({\n  &quot;maxWidth&quot;: &quot;100%&quot;,\n});\n\n        \n            \n                var html_c8a7d11ed8df397716ac8b1429269706 = $(`&lt;div id=&quot;html_c8a7d11ed8df397716ac8b1429269706&quot; style=&quot;width: 100.0%; height: 100.0%;&quot;&gt;Launch Site: CCAFS LC-40&lt;br&gt;Outcome: Failure&lt;/div&gt;`)[0];\n                popup_12f1724d013eefcde7c4dc3749cabec4.setContent(html_c8a7d11ed8df397716ac8b1429269706);\n            \n        \n\n        marker_2403de6b312cf70b78e87b438b5b7f7f.bindPopup(popup_12f1724d013eefcde7c4dc3749cabec4)\n        ;\n\n        \n    \n    \n            tile_layer_9bc8e3b2829f11cd3f8e497b89543434.addTo(map_3e6957d04fd0699d9f8fa4c91470f99c);\n        \n    \n            var marker_cluster_117af2b41d50a5d0fe887cd4eff3b099 = L.markerClusterGroup(\n                {\n}\n            );\n        \n    \n            var marker_86a471b45d2b8047b35c108ec5ac670d = L.marker(\n                [29.559684888503615, -95.0830971930759],\n                {\n}\n            ).addTo(marker_cluster_117af2b41d50a5d0fe887cd4eff3b099);\n        \n    \n            var div_icon_a41b178af2cfa98cce01486376743fd7 = L.divIcon({\n  &quot;html&quot;: &quot;\\u003cdiv style=\\&quot;font-size: 12; color:#d35400;\\&quot;\\u003e\\u003cb\\u003eNASA JSC\\u003c/b\\u003e\\u003c/div\\u003e&quot;,\n  &quot;iconSize&quot;: [20, 20],\n  &quot;iconAnchor&quot;: [0, 0],\n  &quot;className&quot;: &quot;empty&quot;,\n});\n            marker_86a471b45d2b8047b35c108ec5ac670d.setIcon(div_icon_a41b178af2cfa98cce01486376743fd7);\n        \n    \n            marker_cluster_117af2b41d50a5d0fe887cd4eff3b099.addTo(map_3e6957d04fd0699d9f8fa4c91470f99c);\n        \n&lt;/script&gt;\n&lt;/html&gt;\" style=\"position:absolute;width:100%;height:100%;left:0;top:0;border:none !important;\" allowfullscreen webkitallowfullscreen mozallowfullscreen></iframe></div></div>"
          },
          "metadata": {}
        }
      ],
      "execution_count": 22
    },
    {
      "cell_type": "markdown",
      "source": "Your updated map may look like the following screenshots:\n",
      "metadata": {}
    },
    {
      "cell_type": "markdown",
      "source": "<center>\n    <img src=\"https://cf-courses-data.s3.us.cloud-object-storage.appdomain.cloud/IBM-DS0321EN-SkillsNetwork/labs/module_3/images/launch_site_marker_cluster.png\">\n</center>\n",
      "metadata": {}
    },
    {
      "cell_type": "markdown",
      "source": "<center>\n    <img src=\"https://cf-courses-data.s3.us.cloud-object-storage.appdomain.cloud/IBM-DS0321EN-SkillsNetwork/labs/module_3/images/launch_site_marker_cluster_zoomed.png\">\n</center>\n",
      "metadata": {}
    },
    {
      "cell_type": "markdown",
      "source": "From the color-labeled markers in marker clusters, you should be able to easily identify which launch sites have relatively high success rates.\n",
      "metadata": {}
    },
    {
      "cell_type": "code",
      "source": "!pip install geopy",
      "metadata": {
        "trusted": true
      },
      "outputs": [
        {
          "ename": "<class 'OSError'>",
          "evalue": "Not available",
          "traceback": [
            "\u001b[0;31m---------------------------------------------------------------------------\u001b[0m",
            "\u001b[0;31mOSError\u001b[0m                                   Traceback (most recent call last)",
            "Cell \u001b[0;32mIn[25], line 1\u001b[0m\n\u001b[0;32m----> 1\u001b[0m \u001b[43mget_ipython\u001b[49m\u001b[43m(\u001b[49m\u001b[43m)\u001b[49m\u001b[38;5;241;43m.\u001b[39;49m\u001b[43msystem\u001b[49m\u001b[43m(\u001b[49m\u001b[38;5;124;43m'\u001b[39;49m\u001b[38;5;124;43mpip install geopy\u001b[39;49m\u001b[38;5;124;43m'\u001b[39;49m\u001b[43m)\u001b[49m\n",
            "File \u001b[0;32m/lib/python3.12/site-packages/IPython/core/interactiveshell.py:2653\u001b[0m, in \u001b[0;36mInteractiveShell.system_piped\u001b[0;34m(self, cmd)\u001b[0m\n\u001b[1;32m   2648\u001b[0m     \u001b[38;5;28;01mraise\u001b[39;00m \u001b[38;5;167;01mOSError\u001b[39;00m(\u001b[38;5;124m\"\u001b[39m\u001b[38;5;124mBackground processes not supported.\u001b[39m\u001b[38;5;124m\"\u001b[39m)\n\u001b[1;32m   2650\u001b[0m \u001b[38;5;66;03m# we explicitly do NOT return the subprocess status code, because\u001b[39;00m\n\u001b[1;32m   2651\u001b[0m \u001b[38;5;66;03m# a non-None value would trigger :func:`sys.displayhook` calls.\u001b[39;00m\n\u001b[1;32m   2652\u001b[0m \u001b[38;5;66;03m# Instead, we store the exit_code in user_ns.\u001b[39;00m\n\u001b[0;32m-> 2653\u001b[0m \u001b[38;5;28mself\u001b[39m\u001b[38;5;241m.\u001b[39muser_ns[\u001b[38;5;124m'\u001b[39m\u001b[38;5;124m_exit_code\u001b[39m\u001b[38;5;124m'\u001b[39m] \u001b[38;5;241m=\u001b[39m \u001b[43msystem\u001b[49m\u001b[43m(\u001b[49m\u001b[38;5;28;43mself\u001b[39;49m\u001b[38;5;241;43m.\u001b[39;49m\u001b[43mvar_expand\u001b[49m\u001b[43m(\u001b[49m\u001b[43mcmd\u001b[49m\u001b[43m,\u001b[49m\u001b[43m \u001b[49m\u001b[43mdepth\u001b[49m\u001b[38;5;241;43m=\u001b[39;49m\u001b[38;5;241;43m1\u001b[39;49m\u001b[43m)\u001b[49m\u001b[43m)\u001b[49m\n",
            "File \u001b[0;32m/lib/python3.12/site-packages/IPython/utils/_process_emscripten.py:11\u001b[0m, in \u001b[0;36msystem\u001b[0;34m(cmd)\u001b[0m\n\u001b[1;32m     10\u001b[0m \u001b[38;5;28;01mdef\u001b[39;00m \u001b[38;5;21msystem\u001b[39m(cmd):\n\u001b[0;32m---> 11\u001b[0m     \u001b[38;5;28;01mraise\u001b[39;00m \u001b[38;5;167;01mOSError\u001b[39;00m(\u001b[38;5;124m\"\u001b[39m\u001b[38;5;124mNot available\u001b[39m\u001b[38;5;124m\"\u001b[39m)\n",
            "\u001b[0;31mOSError\u001b[0m: Not available"
          ],
          "output_type": "error"
        }
      ],
      "execution_count": 25
    },
    {
      "cell_type": "code",
      "source": "# TASK 3: Calculate the distances between a launch site to its proximities\n\n\nfrom geopy.distance import geodesic\n\n# Define launch site coordinates (example)\nlaunch_sites = {\n    'VAFB SLC-4E': (35.6301, -120.6102), # Latitude and Longitude\n    'KSC LC-39A': (28.5726, -80.6489),\n    'CCAFS SLC-40': (28.5622, -80.5773),\n    'CCAFS SLC-40': (28.5622, -80.5773), # Duplicate, corrected\n    'VAFB SLC-4E': (35.6301, -120.6102)  # Duplicate, corrected\n}\n\n# Function to calculate distance between two coordinates\ndef calculate_distance(coord1, coord2):\n    return geodesic(coord1, coord2).kilometers\n\n# Calculate distances between each pair of launch sites\ndistances = {}\nfor site1, coord1 in launch_sites.items():\n    for site2, coord2 in launch_sites.items():\n        if site1 != site2:\n            distance = calculate_distance(coord1, coord2)\n            distances[(site1, site2)] = distance\n\n# Display the distances\nfor sites, distance in distances.items():\n    print(f\"Distance between {sites[0]} and {sites[1]}: {distance:.2f} km\")\n",
      "metadata": {
        "trusted": true
      },
      "outputs": [
        {
          "ename": "<class 'OSError'>",
          "evalue": "Not available",
          "traceback": [
            "\u001b[0;31m---------------------------------------------------------------------------\u001b[0m",
            "\u001b[0;31mOSError\u001b[0m                                   Traceback (most recent call last)",
            "Cell \u001b[0;32mIn[24], line 2\u001b[0m\n\u001b[1;32m      1\u001b[0m \u001b[38;5;66;03m# TASK 3: Calculate the distances between a launch site to its proximities\u001b[39;00m\n\u001b[0;32m----> 2\u001b[0m \u001b[43mget_ipython\u001b[49m\u001b[43m(\u001b[49m\u001b[43m)\u001b[49m\u001b[38;5;241;43m.\u001b[39;49m\u001b[43msystem\u001b[49m\u001b[43m(\u001b[49m\u001b[38;5;124;43m'\u001b[39;49m\u001b[38;5;124;43mpip install geopy\u001b[39;49m\u001b[38;5;124;43m'\u001b[39;49m\u001b[43m)\u001b[49m\n\u001b[1;32m      4\u001b[0m \u001b[38;5;28;01mfrom\u001b[39;00m \u001b[38;5;21;01mgeopy\u001b[39;00m\u001b[38;5;21;01m.\u001b[39;00m\u001b[38;5;21;01mdistance\u001b[39;00m \u001b[38;5;28;01mimport\u001b[39;00m geodesic\n\u001b[1;32m      6\u001b[0m \u001b[38;5;66;03m# Define launch site coordinates (example)\u001b[39;00m\n",
            "File \u001b[0;32m/lib/python3.12/site-packages/IPython/core/interactiveshell.py:2653\u001b[0m, in \u001b[0;36mInteractiveShell.system_piped\u001b[0;34m(self, cmd)\u001b[0m\n\u001b[1;32m   2648\u001b[0m     \u001b[38;5;28;01mraise\u001b[39;00m \u001b[38;5;167;01mOSError\u001b[39;00m(\u001b[38;5;124m\"\u001b[39m\u001b[38;5;124mBackground processes not supported.\u001b[39m\u001b[38;5;124m\"\u001b[39m)\n\u001b[1;32m   2650\u001b[0m \u001b[38;5;66;03m# we explicitly do NOT return the subprocess status code, because\u001b[39;00m\n\u001b[1;32m   2651\u001b[0m \u001b[38;5;66;03m# a non-None value would trigger :func:`sys.displayhook` calls.\u001b[39;00m\n\u001b[1;32m   2652\u001b[0m \u001b[38;5;66;03m# Instead, we store the exit_code in user_ns.\u001b[39;00m\n\u001b[0;32m-> 2653\u001b[0m \u001b[38;5;28mself\u001b[39m\u001b[38;5;241m.\u001b[39muser_ns[\u001b[38;5;124m'\u001b[39m\u001b[38;5;124m_exit_code\u001b[39m\u001b[38;5;124m'\u001b[39m] \u001b[38;5;241m=\u001b[39m \u001b[43msystem\u001b[49m\u001b[43m(\u001b[49m\u001b[38;5;28;43mself\u001b[39;49m\u001b[38;5;241;43m.\u001b[39;49m\u001b[43mvar_expand\u001b[49m\u001b[43m(\u001b[49m\u001b[43mcmd\u001b[49m\u001b[43m,\u001b[49m\u001b[43m \u001b[49m\u001b[43mdepth\u001b[49m\u001b[38;5;241;43m=\u001b[39;49m\u001b[38;5;241;43m1\u001b[39;49m\u001b[43m)\u001b[49m\u001b[43m)\u001b[49m\n",
            "File \u001b[0;32m/lib/python3.12/site-packages/IPython/utils/_process_emscripten.py:11\u001b[0m, in \u001b[0;36msystem\u001b[0;34m(cmd)\u001b[0m\n\u001b[1;32m     10\u001b[0m \u001b[38;5;28;01mdef\u001b[39;00m \u001b[38;5;21msystem\u001b[39m(cmd):\n\u001b[0;32m---> 11\u001b[0m     \u001b[38;5;28;01mraise\u001b[39;00m \u001b[38;5;167;01mOSError\u001b[39;00m(\u001b[38;5;124m\"\u001b[39m\u001b[38;5;124mNot available\u001b[39m\u001b[38;5;124m\"\u001b[39m)\n",
            "\u001b[0;31mOSError\u001b[0m: Not available"
          ],
          "output_type": "error"
        }
      ],
      "execution_count": 24
    },
    {
      "cell_type": "markdown",
      "source": "Next, we need to explore and analyze the proximities of launch sites.\n",
      "metadata": {}
    },
    {
      "cell_type": "markdown",
      "source": "Let's first add a `MousePosition` on the map to get coordinate for a mouse over a point on the map. As such, while you are exploring the map, you can easily find the coordinates of any points of interests (such as railway)\n",
      "metadata": {}
    },
    {
      "cell_type": "code",
      "source": "# Add Mouse Position to get the coordinate (Lat, Long) for a mouse over on the map\nformatter = \"function(num) {return L.Util.formatNum(num, 5);};\"\nmouse_position = MousePosition(\n    position='topright',\n    separator=' Long: ',\n    empty_string='NaN',\n    lng_first=False,\n    num_digits=20,\n    prefix='Lat:',\n    lat_formatter=formatter,\n    lng_formatter=formatter,\n)\n\nsite_map.add_child(mouse_position)\nsite_map",
      "metadata": {},
      "outputs": [],
      "execution_count": null
    },
    {
      "cell_type": "markdown",
      "source": "Now zoom in to a launch site and explore its proximity to see if you can easily find any railway, highway, coastline, etc. Move your mouse to these points and mark down their coordinates (shown on the top-left) in order to the distance to the launch site.\n",
      "metadata": {}
    },
    {
      "cell_type": "markdown",
      "source": "Now zoom in to a launch site and explore its proximity to see if you can easily find any railway, highway, coastline, etc. Move your mouse to these points and mark down their coordinates (shown on the top-left) in order to the distance to the launch site.\n",
      "metadata": {}
    },
    {
      "cell_type": "code",
      "source": "from math import sin, cos, sqrt, atan2, radians\n\ndef calculate_distance(lat1, lon1, lat2, lon2):\n    # approximate radius of earth in km\n    R = 6373.0\n\n    lat1 = radians(lat1)\n    lon1 = radians(lon1)\n    lat2 = radians(lat2)\n    lon2 = radians(lon2)\n\n    dlon = lon2 - lon1\n    dlat = lat2 - lat1\n\n    a = sin(dlat / 2)**2 + cos(lat1) * cos(lat2) * sin(dlon / 2)**2\n    c = 2 * atan2(sqrt(a), sqrt(1 - a))\n\n    distance = R * c\n    return distance",
      "metadata": {},
      "outputs": [],
      "execution_count": null
    },
    {
      "cell_type": "markdown",
      "source": "*TODO:* Mark down a point on the closest coastline using MousePosition and calculate the distance between the coastline point and the launch site.\n",
      "metadata": {}
    },
    {
      "cell_type": "code",
      "source": "# find coordinate of the closet coastline\n# e.g.,: Lat: 28.56367  Lon: -80.57163\n# distance_coastline = calculate_distance(launch_site_lat, launch_site_lon, coastline_lat, coastline_lon)",
      "metadata": {},
      "outputs": [],
      "execution_count": null
    },
    {
      "cell_type": "code",
      "source": "# Create and add a folium.Marker on your selected closest coastline point on the map\n# Display the distance between coastline point and launch site using the icon property \n# for example\n# distance_marker = folium.Marker(\n#    coordinate,\n#    icon=DivIcon(\n#        icon_size=(20,20),\n#        icon_anchor=(0,0),\n#        html='<div style=\"font-size: 12; color:#d35400;\"><b>%s</b></div>' % \"{:10.2f} KM\".format(distance),\n#        )\n#    )",
      "metadata": {},
      "outputs": [],
      "execution_count": null
    },
    {
      "cell_type": "markdown",
      "source": "*TODO:* Draw a `PolyLine` between a launch site to the selected coastline point\n",
      "metadata": {}
    },
    {
      "cell_type": "code",
      "source": "# Create a `folium.PolyLine` object using the coastline coordinates and launch site coordinate\n# lines=folium.PolyLine(locations=coordinates, weight=1)\nsite_map.add_child(lines)",
      "metadata": {},
      "outputs": [],
      "execution_count": null
    },
    {
      "cell_type": "markdown",
      "source": "Your updated map with distance line should look like the following screenshot:\n",
      "metadata": {}
    },
    {
      "cell_type": "markdown",
      "source": "<center>\n    <img src=\"https://cf-courses-data.s3.us.cloud-object-storage.appdomain.cloud/IBM-DS0321EN-SkillsNetwork/labs/module_3/images/launch_site_marker_distance.png\">\n</center>\n",
      "metadata": {}
    },
    {
      "cell_type": "markdown",
      "source": "*TODO:* Similarly, you can draw a line betwee a launch site to its closest city, railway, highway, etc. You need to use `MousePosition` to find the their coordinates on the map first\n",
      "metadata": {}
    },
    {
      "cell_type": "markdown",
      "source": "A railway map symbol may look like this:\n",
      "metadata": {}
    },
    {
      "cell_type": "markdown",
      "source": "<center>\n    <img src=\"https://cf-courses-data.s3.us.cloud-object-storage.appdomain.cloud/IBM-DS0321EN-SkillsNetwork/labs/module_3/images/railway.png\">\n</center>\n",
      "metadata": {}
    },
    {
      "cell_type": "markdown",
      "source": "A highway map symbol may look like this:\n",
      "metadata": {}
    },
    {
      "cell_type": "markdown",
      "source": "<center>\n    <img src=\"https://cf-courses-data.s3.us.cloud-object-storage.appdomain.cloud/IBM-DS0321EN-SkillsNetwork/labs/module_3/images/highway.png\">\n</center>\n",
      "metadata": {}
    },
    {
      "cell_type": "markdown",
      "source": "A city map symbol may look like this:\n",
      "metadata": {}
    },
    {
      "cell_type": "markdown",
      "source": "<center>\n    <img src=\"https://cf-courses-data.s3.us.cloud-object-storage.appdomain.cloud/IBM-DS0321EN-SkillsNetwork/labs/module_3/images/city.png\">\n</center>\n",
      "metadata": {}
    },
    {
      "cell_type": "code",
      "source": "# Create a marker with distance to a closest city, railway, highway, etc.\n# Draw a line between the marker to the launch site\n",
      "metadata": {},
      "outputs": [],
      "execution_count": null
    },
    {
      "cell_type": "code",
      "source": "",
      "metadata": {},
      "outputs": [],
      "execution_count": null
    },
    {
      "cell_type": "code",
      "source": "",
      "metadata": {},
      "outputs": [],
      "execution_count": null
    },
    {
      "cell_type": "markdown",
      "source": "After you plot distance lines to the proximities, you can answer the following questions easily:\n\n*   Are launch sites in close proximity to railways?\n*   Are launch sites in close proximity to highways?\n*   Are launch sites in close proximity to coastline?\n*   Do launch sites keep certain distance away from cities?\n\nAlso please try to explain your findings.\n",
      "metadata": {}
    },
    {
      "cell_type": "markdown",
      "source": "# Next Steps:\n\nNow you have discovered many interesting insights related to the launch sites' location using folium, in a very interactive way. Next, you will need to build a dashboard using Ploty Dash on detailed launch records.\n",
      "metadata": {}
    },
    {
      "cell_type": "markdown",
      "source": "## Authors\n",
      "metadata": {}
    },
    {
      "cell_type": "markdown",
      "source": "[Pratiksha Verma](https://www.linkedin.com/in/pratiksha-verma-6487561b1/)\n",
      "metadata": {}
    },
    {
      "cell_type": "markdown",
      "source": "<!--## Change Log--!>\n",
      "metadata": {}
    },
    {
      "cell_type": "markdown",
      "source": "<!--| Date (YYYY-MM-DD) | Version | Changed By      | Change Description      |\n| ----------------- | ------- | -------------   | ----------------------- |\n| 2022-11-09        | 1.0     | Pratiksha Verma | Converted initial version to Jupyterlite|--!>\n",
      "metadata": {}
    },
    {
      "cell_type": "markdown",
      "source": "### <h3 align=\"center\"> IBM Corporation 2022. All rights reserved. <h3/>\n",
      "metadata": {}
    }
  ]
}